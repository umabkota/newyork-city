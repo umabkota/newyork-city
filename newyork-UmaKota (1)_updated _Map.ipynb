{
 "cells": [
  {
   "cell_type": "code",
   "execution_count": 2,
   "metadata": {},
   "outputs": [],
   "source": [
    "import numpy as np\n",
    "import pandas as pd\n",
    "import matplotlib.pyplot as plt\n",
    "import os\n",
    "import random\n",
    "import sklearn\n",
    "import scipy.stats as stats\n",
    "import csv\n",
    "import math\n",
    "from sklearn import preprocessing\n",
    "import string\n",
    "import plotly\n",
    "import plotly.graph_objs as go\n"
   ]
  },
  {
   "cell_type": "code",
   "execution_count": 5,
   "metadata": {},
   "outputs": [],
   "source": [
    "TRAIN_PATH='D:\\\\all\\\\train.csv'\n",
    "with open(TRAIN_PATH) as file:\n",
    "    n_rows = len(file.readlines())"
   ]
  },
  {
   "cell_type": "code",
   "execution_count": 6,
   "metadata": {},
   "outputs": [
    {
     "data": {
      "text/plain": [
       "55423857"
      ]
     },
     "execution_count": 6,
     "metadata": {},
     "output_type": "execute_result"
    }
   ],
   "source": [
    "n_rows"
   ]
  },
  {
   "cell_type": "code",
   "execution_count": 4,
   "metadata": {},
   "outputs": [
    {
     "data": {
      "text/html": [
       "<div>\n",
       "<style scoped>\n",
       "    .dataframe tbody tr th:only-of-type {\n",
       "        vertical-align: middle;\n",
       "    }\n",
       "\n",
       "    .dataframe tbody tr th {\n",
       "        vertical-align: top;\n",
       "    }\n",
       "\n",
       "    .dataframe thead th {\n",
       "        text-align: right;\n",
       "    }\n",
       "</style>\n",
       "<table border=\"1\" class=\"dataframe\">\n",
       "  <thead>\n",
       "    <tr style=\"text-align: right;\">\n",
       "      <th></th>\n",
       "      <th>key</th>\n",
       "      <th>fare_amount</th>\n",
       "      <th>pickup_datetime</th>\n",
       "      <th>pickup_longitude</th>\n",
       "      <th>pickup_latitude</th>\n",
       "      <th>dropoff_longitude</th>\n",
       "      <th>dropoff_latitude</th>\n",
       "      <th>passenger_count</th>\n",
       "    </tr>\n",
       "  </thead>\n",
       "  <tbody>\n",
       "    <tr>\n",
       "      <th>0</th>\n",
       "      <td>2009-06-15 17:26:21.0000001</td>\n",
       "      <td>4.5</td>\n",
       "      <td>2009-06-15 17:26:21 UTC</td>\n",
       "      <td>-73.844311</td>\n",
       "      <td>40.721319</td>\n",
       "      <td>-73.841610</td>\n",
       "      <td>40.712278</td>\n",
       "      <td>1</td>\n",
       "    </tr>\n",
       "    <tr>\n",
       "      <th>1</th>\n",
       "      <td>2010-01-05 16:52:16.0000002</td>\n",
       "      <td>16.9</td>\n",
       "      <td>2010-01-05 16:52:16 UTC</td>\n",
       "      <td>-74.016048</td>\n",
       "      <td>40.711303</td>\n",
       "      <td>-73.979268</td>\n",
       "      <td>40.782004</td>\n",
       "      <td>1</td>\n",
       "    </tr>\n",
       "    <tr>\n",
       "      <th>2</th>\n",
       "      <td>2011-08-18 00:35:00.00000049</td>\n",
       "      <td>5.7</td>\n",
       "      <td>2011-08-18 00:35:00 UTC</td>\n",
       "      <td>-73.982738</td>\n",
       "      <td>40.761270</td>\n",
       "      <td>-73.991242</td>\n",
       "      <td>40.750562</td>\n",
       "      <td>2</td>\n",
       "    </tr>\n",
       "    <tr>\n",
       "      <th>3</th>\n",
       "      <td>2012-04-21 04:30:42.0000001</td>\n",
       "      <td>7.7</td>\n",
       "      <td>2012-04-21 04:30:42 UTC</td>\n",
       "      <td>-73.987130</td>\n",
       "      <td>40.733143</td>\n",
       "      <td>-73.991567</td>\n",
       "      <td>40.758092</td>\n",
       "      <td>1</td>\n",
       "    </tr>\n",
       "    <tr>\n",
       "      <th>4</th>\n",
       "      <td>2010-03-09 07:51:00.000000135</td>\n",
       "      <td>5.3</td>\n",
       "      <td>2010-03-09 07:51:00 UTC</td>\n",
       "      <td>-73.968095</td>\n",
       "      <td>40.768008</td>\n",
       "      <td>-73.956655</td>\n",
       "      <td>40.783762</td>\n",
       "      <td>1</td>\n",
       "    </tr>\n",
       "    <tr>\n",
       "      <th>5</th>\n",
       "      <td>2011-01-06 09:50:45.0000002</td>\n",
       "      <td>12.1</td>\n",
       "      <td>2011-01-06 09:50:45 UTC</td>\n",
       "      <td>-74.000964</td>\n",
       "      <td>40.731630</td>\n",
       "      <td>-73.972892</td>\n",
       "      <td>40.758233</td>\n",
       "      <td>1</td>\n",
       "    </tr>\n",
       "    <tr>\n",
       "      <th>6</th>\n",
       "      <td>2012-11-20 20:35:00.0000001</td>\n",
       "      <td>7.5</td>\n",
       "      <td>2012-11-20 20:35:00 UTC</td>\n",
       "      <td>-73.980002</td>\n",
       "      <td>40.751662</td>\n",
       "      <td>-73.973802</td>\n",
       "      <td>40.764842</td>\n",
       "      <td>1</td>\n",
       "    </tr>\n",
       "    <tr>\n",
       "      <th>7</th>\n",
       "      <td>2012-01-04 17:22:00.00000081</td>\n",
       "      <td>16.5</td>\n",
       "      <td>2012-01-04 17:22:00 UTC</td>\n",
       "      <td>-73.951300</td>\n",
       "      <td>40.774138</td>\n",
       "      <td>-73.990095</td>\n",
       "      <td>40.751048</td>\n",
       "      <td>1</td>\n",
       "    </tr>\n",
       "    <tr>\n",
       "      <th>8</th>\n",
       "      <td>2012-12-03 13:10:00.000000125</td>\n",
       "      <td>9.0</td>\n",
       "      <td>2012-12-03 13:10:00 UTC</td>\n",
       "      <td>-74.006462</td>\n",
       "      <td>40.726713</td>\n",
       "      <td>-73.993078</td>\n",
       "      <td>40.731628</td>\n",
       "      <td>1</td>\n",
       "    </tr>\n",
       "    <tr>\n",
       "      <th>9</th>\n",
       "      <td>2009-09-02 01:11:00.00000083</td>\n",
       "      <td>8.9</td>\n",
       "      <td>2009-09-02 01:11:00 UTC</td>\n",
       "      <td>-73.980658</td>\n",
       "      <td>40.733873</td>\n",
       "      <td>-73.991540</td>\n",
       "      <td>40.758138</td>\n",
       "      <td>2</td>\n",
       "    </tr>\n",
       "  </tbody>\n",
       "</table>\n",
       "</div>"
      ],
      "text/plain": [
       "                             key  fare_amount          pickup_datetime  \\\n",
       "0    2009-06-15 17:26:21.0000001          4.5  2009-06-15 17:26:21 UTC   \n",
       "1    2010-01-05 16:52:16.0000002         16.9  2010-01-05 16:52:16 UTC   \n",
       "2   2011-08-18 00:35:00.00000049          5.7  2011-08-18 00:35:00 UTC   \n",
       "3    2012-04-21 04:30:42.0000001          7.7  2012-04-21 04:30:42 UTC   \n",
       "4  2010-03-09 07:51:00.000000135          5.3  2010-03-09 07:51:00 UTC   \n",
       "5    2011-01-06 09:50:45.0000002         12.1  2011-01-06 09:50:45 UTC   \n",
       "6    2012-11-20 20:35:00.0000001          7.5  2012-11-20 20:35:00 UTC   \n",
       "7   2012-01-04 17:22:00.00000081         16.5  2012-01-04 17:22:00 UTC   \n",
       "8  2012-12-03 13:10:00.000000125          9.0  2012-12-03 13:10:00 UTC   \n",
       "9   2009-09-02 01:11:00.00000083          8.9  2009-09-02 01:11:00 UTC   \n",
       "\n",
       "   pickup_longitude  pickup_latitude  dropoff_longitude  dropoff_latitude  \\\n",
       "0        -73.844311        40.721319         -73.841610         40.712278   \n",
       "1        -74.016048        40.711303         -73.979268         40.782004   \n",
       "2        -73.982738        40.761270         -73.991242         40.750562   \n",
       "3        -73.987130        40.733143         -73.991567         40.758092   \n",
       "4        -73.968095        40.768008         -73.956655         40.783762   \n",
       "5        -74.000964        40.731630         -73.972892         40.758233   \n",
       "6        -73.980002        40.751662         -73.973802         40.764842   \n",
       "7        -73.951300        40.774138         -73.990095         40.751048   \n",
       "8        -74.006462        40.726713         -73.993078         40.731628   \n",
       "9        -73.980658        40.733873         -73.991540         40.758138   \n",
       "\n",
       "   passenger_count  \n",
       "0                1  \n",
       "1                1  \n",
       "2                2  \n",
       "3                1  \n",
       "4                1  \n",
       "5                1  \n",
       "6                1  \n",
       "7                1  \n",
       "8                1  \n",
       "9                2  "
      ]
     },
     "execution_count": 4,
     "metadata": {},
     "output_type": "execute_result"
    }
   ],
   "source": [
    "train = pd.read_csv('D:\\\\all\\\\train.csv', sep = ',', nrows = 10000000)\n",
    "test = pd.read_csv('D:\\\\all\\\\test.csv', sep = ',')\n",
    "df_train = pd.DataFrame(train)\n",
    "df_test = pd.DataFrame(test)\n",
    "df_train.head(10)\n",
    "# train = pd.read_csv('train.csv', sep = ',', nrows = 1000000)\n",
    "# test = pd.read_csv('test.csv', sep = ',')\n",
    "# df_train = pd.DataFrame(train)\n",
    "# df_test = pd.DataFrame(test)\n",
    "# df_train.head(10)\n",
    "# # df_test.shape\n",
    "\n"
   ]
  },
  {
   "cell_type": "code",
   "execution_count": 7,
   "metadata": {},
   "outputs": [
    {
     "data": {
      "text/plain": [
       "(10000000, 8)"
      ]
     },
     "execution_count": 7,
     "metadata": {},
     "output_type": "execute_result"
    }
   ],
   "source": [
    "df_train.shape\n"
   ]
  },
  {
   "cell_type": "code",
   "execution_count": 8,
   "metadata": {},
   "outputs": [
    {
     "data": {
      "text/html": [
       "<div>\n",
       "<style scoped>\n",
       "    .dataframe tbody tr th:only-of-type {\n",
       "        vertical-align: middle;\n",
       "    }\n",
       "\n",
       "    .dataframe tbody tr th {\n",
       "        vertical-align: top;\n",
       "    }\n",
       "\n",
       "    .dataframe thead th {\n",
       "        text-align: right;\n",
       "    }\n",
       "</style>\n",
       "<table border=\"1\" class=\"dataframe\">\n",
       "  <thead>\n",
       "    <tr style=\"text-align: right;\">\n",
       "      <th></th>\n",
       "      <th>fare_amount</th>\n",
       "      <th>pickup_longitude</th>\n",
       "      <th>pickup_latitude</th>\n",
       "      <th>dropoff_longitude</th>\n",
       "      <th>dropoff_latitude</th>\n",
       "      <th>passenger_count</th>\n",
       "    </tr>\n",
       "  </thead>\n",
       "  <tbody>\n",
       "    <tr>\n",
       "      <th>count</th>\n",
       "      <td>1.000000e+07</td>\n",
       "      <td>1.000000e+07</td>\n",
       "      <td>1.000000e+07</td>\n",
       "      <td>9.999931e+06</td>\n",
       "      <td>9.999931e+06</td>\n",
       "      <td>1.000000e+07</td>\n",
       "    </tr>\n",
       "    <tr>\n",
       "      <th>mean</th>\n",
       "      <td>1.133854e+01</td>\n",
       "      <td>-7.250775e+01</td>\n",
       "      <td>3.991934e+01</td>\n",
       "      <td>-7.250897e+01</td>\n",
       "      <td>3.991913e+01</td>\n",
       "      <td>1.684793e+00</td>\n",
       "    </tr>\n",
       "    <tr>\n",
       "      <th>std</th>\n",
       "      <td>9.799930e+00</td>\n",
       "      <td>1.299421e+01</td>\n",
       "      <td>9.322539e+00</td>\n",
       "      <td>1.287532e+01</td>\n",
       "      <td>9.237280e+00</td>\n",
       "      <td>1.323423e+00</td>\n",
       "    </tr>\n",
       "    <tr>\n",
       "      <th>min</th>\n",
       "      <td>-1.077500e+02</td>\n",
       "      <td>-3.439245e+03</td>\n",
       "      <td>-3.492264e+03</td>\n",
       "      <td>-3.426601e+03</td>\n",
       "      <td>-3.488080e+03</td>\n",
       "      <td>0.000000e+00</td>\n",
       "    </tr>\n",
       "    <tr>\n",
       "      <th>25%</th>\n",
       "      <td>6.000000e+00</td>\n",
       "      <td>-7.399207e+01</td>\n",
       "      <td>4.073491e+01</td>\n",
       "      <td>-7.399139e+01</td>\n",
       "      <td>4.073403e+01</td>\n",
       "      <td>1.000000e+00</td>\n",
       "    </tr>\n",
       "    <tr>\n",
       "      <th>50%</th>\n",
       "      <td>8.500000e+00</td>\n",
       "      <td>-7.398181e+01</td>\n",
       "      <td>4.075263e+01</td>\n",
       "      <td>-7.398016e+01</td>\n",
       "      <td>4.075316e+01</td>\n",
       "      <td>1.000000e+00</td>\n",
       "    </tr>\n",
       "    <tr>\n",
       "      <th>75%</th>\n",
       "      <td>1.250000e+01</td>\n",
       "      <td>-7.396710e+01</td>\n",
       "      <td>4.076712e+01</td>\n",
       "      <td>-7.396367e+01</td>\n",
       "      <td>4.076810e+01</td>\n",
       "      <td>2.000000e+00</td>\n",
       "    </tr>\n",
       "    <tr>\n",
       "      <th>max</th>\n",
       "      <td>1.273310e+03</td>\n",
       "      <td>3.457626e+03</td>\n",
       "      <td>3.344459e+03</td>\n",
       "      <td>3.457622e+03</td>\n",
       "      <td>3.351403e+03</td>\n",
       "      <td>2.080000e+02</td>\n",
       "    </tr>\n",
       "  </tbody>\n",
       "</table>\n",
       "</div>"
      ],
      "text/plain": [
       "        fare_amount  pickup_longitude  pickup_latitude  dropoff_longitude  \\\n",
       "count  1.000000e+07      1.000000e+07     1.000000e+07       9.999931e+06   \n",
       "mean   1.133854e+01     -7.250775e+01     3.991934e+01      -7.250897e+01   \n",
       "std    9.799930e+00      1.299421e+01     9.322539e+00       1.287532e+01   \n",
       "min   -1.077500e+02     -3.439245e+03    -3.492264e+03      -3.426601e+03   \n",
       "25%    6.000000e+00     -7.399207e+01     4.073491e+01      -7.399139e+01   \n",
       "50%    8.500000e+00     -7.398181e+01     4.075263e+01      -7.398016e+01   \n",
       "75%    1.250000e+01     -7.396710e+01     4.076712e+01      -7.396367e+01   \n",
       "max    1.273310e+03      3.457626e+03     3.344459e+03       3.457622e+03   \n",
       "\n",
       "       dropoff_latitude  passenger_count  \n",
       "count      9.999931e+06     1.000000e+07  \n",
       "mean       3.991913e+01     1.684793e+00  \n",
       "std        9.237280e+00     1.323423e+00  \n",
       "min       -3.488080e+03     0.000000e+00  \n",
       "25%        4.073403e+01     1.000000e+00  \n",
       "50%        4.075316e+01     1.000000e+00  \n",
       "75%        4.076810e+01     2.000000e+00  \n",
       "max        3.351403e+03     2.080000e+02  "
      ]
     },
     "execution_count": 8,
     "metadata": {},
     "output_type": "execute_result"
    }
   ],
   "source": [
    "df_train.describe()\n"
   ]
  },
  {
   "cell_type": "code",
   "execution_count": 9,
   "metadata": {},
   "outputs": [
    {
     "data": {
      "text/plain": [
       "dropoff_latitude     69\n",
       "dropoff_longitude    69\n",
       "passenger_count       0\n",
       "pickup_latitude       0\n",
       "pickup_longitude      0\n",
       "pickup_datetime       0\n",
       "fare_amount           0\n",
       "key                   0\n",
       "dtype: int64"
      ]
     },
     "execution_count": 9,
     "metadata": {},
     "output_type": "execute_result"
    }
   ],
   "source": [
    "#check for missing values in train data\n",
    "df_train.isnull().sum().sort_values(ascending=False)"
   ]
  },
  {
   "cell_type": "code",
   "execution_count": 10,
   "metadata": {},
   "outputs": [
    {
     "data": {
      "text/plain": [
       "passenger_count      0\n",
       "dropoff_latitude     0\n",
       "dropoff_longitude    0\n",
       "pickup_latitude      0\n",
       "pickup_longitude     0\n",
       "pickup_datetime      0\n",
       "key                  0\n",
       "dtype: int64"
      ]
     },
     "execution_count": 10,
     "metadata": {},
     "output_type": "execute_result"
    }
   ],
   "source": [
    "#check for missing values in test data\n",
    "df_test.isnull().sum().sort_values(ascending=False)"
   ]
  },
  {
   "cell_type": "code",
   "execution_count": 11,
   "metadata": {},
   "outputs": [],
   "source": [
    "df_train = df_train.drop(df_train[df_train.isnull().any(1)].index, axis = 0)\n"
   ]
  },
  {
   "cell_type": "code",
   "execution_count": 12,
   "metadata": {},
   "outputs": [
    {
     "data": {
      "text/plain": [
       "(9999931, 8)"
      ]
     },
     "execution_count": 12,
     "metadata": {},
     "output_type": "execute_result"
    }
   ],
   "source": [
    "df_train.shape"
   ]
  },
  {
   "cell_type": "code",
   "execution_count": 13,
   "metadata": {},
   "outputs": [
    {
     "data": {
      "text/plain": [
       "count    9.999931e+06\n",
       "mean     1.133849e+01\n",
       "std      9.799845e+00\n",
       "min     -1.077500e+02\n",
       "25%      6.000000e+00\n",
       "50%      8.500000e+00\n",
       "75%      1.250000e+01\n",
       "max      1.273310e+03\n",
       "Name: fare_amount, dtype: float64"
      ]
     },
     "execution_count": 13,
     "metadata": {},
     "output_type": "execute_result"
    }
   ],
   "source": [
    "# checking the target column\n",
    "df_train['fare_amount'].describe()"
   ]
  },
  {
   "cell_type": "code",
   "execution_count": 14,
   "metadata": {},
   "outputs": [
    {
     "data": {
      "text/plain": [
       "Counter({False: 9999511, True: 420})"
      ]
     },
     "execution_count": 14,
     "metadata": {},
     "output_type": "execute_result"
    }
   ],
   "source": [
    "# counting the number of negativ value\n",
    "from collections import Counter\n",
    "Counter(df_train['fare_amount']<0)"
   ]
  },
  {
   "cell_type": "code",
   "execution_count": 15,
   "metadata": {},
   "outputs": [
    {
     "data": {
      "text/plain": [
       "(9999511, 8)"
      ]
     },
     "execution_count": 15,
     "metadata": {},
     "output_type": "execute_result"
    }
   ],
   "source": [
    "# dropping the negative value for target column\n",
    "df_train = df_train.drop(df_train[df_train['fare_amount']<0].index, axis=0)\n",
    "df_train.shape"
   ]
  },
  {
   "cell_type": "code",
   "execution_count": 16,
   "metadata": {},
   "outputs": [
    {
     "data": {
      "text/plain": [
       "count    9.999511e+06\n",
       "mean     1.133935e+01\n",
       "std      9.798654e+00\n",
       "min      0.000000e+00\n",
       "25%      6.000000e+00\n",
       "50%      8.500000e+00\n",
       "75%      1.250000e+01\n",
       "max      1.273310e+03\n",
       "Name: fare_amount, dtype: float64"
      ]
     },
     "execution_count": 16,
     "metadata": {},
     "output_type": "execute_result"
    }
   ],
   "source": [
    "# checking to make sure there no more negative value for frae in train dataset\n",
    "df_train['fare_amount'].describe()"
   ]
  },
  {
   "cell_type": "code",
   "execution_count": 17,
   "metadata": {},
   "outputs": [
    {
     "data": {
      "text/plain": [
       "1144706    1273.31\n",
       "4894706     952.00\n",
       "6979398     850.00\n",
       "3723759     698.16\n",
       "3206977     542.83\n",
       "3316931     500.00\n",
       "7009310     500.00\n",
       "7418789     500.00\n",
       "101885      500.00\n",
       "7583759     499.00\n",
       "5388368     499.00\n",
       "247671      495.00\n",
       "1215047     488.00\n",
       "9835597     477.92\n",
       "7893818     475.00\n",
       "9606167     454.64\n",
       "233874      450.00\n",
       "7872246     450.00\n",
       "287638      450.00\n",
       "7236013     450.00\n",
       "329010      450.00\n",
       "1950951     430.00\n",
       "4907207     423.00\n",
       "2127659     419.75\n",
       "9825738     405.03\n",
       "9489089     403.88\n",
       "5784704     400.00\n",
       "5782292     400.00\n",
       "9484568     400.00\n",
       "451974      400.00\n",
       "            ...   \n",
       "5867720       0.00\n",
       "6204385       0.00\n",
       "8521195       0.00\n",
       "8740367       0.00\n",
       "1614540       0.00\n",
       "3682172       0.00\n",
       "7188807       0.00\n",
       "8002106       0.00\n",
       "5251571       0.00\n",
       "1291130       0.00\n",
       "8748575       0.00\n",
       "5153112       0.00\n",
       "1833544       0.00\n",
       "3925313       0.00\n",
       "6756532       0.00\n",
       "561786        0.00\n",
       "6131401       0.00\n",
       "2418406       0.00\n",
       "9771770       0.00\n",
       "5597946       0.00\n",
       "1221438       0.00\n",
       "5928092       0.00\n",
       "9505127       0.00\n",
       "5820021       0.00\n",
       "5086004       0.00\n",
       "3712453       0.00\n",
       "4841900       0.00\n",
       "2485348       0.00\n",
       "436658        0.00\n",
       "4205502       0.00\n",
       "Name: fare_amount, Length: 9999511, dtype: float64"
      ]
     },
     "execution_count": 17,
     "metadata": {},
     "output_type": "execute_result"
    }
   ],
   "source": [
    "#highest fare $200\n",
    "df_train['fare_amount'].sort_values(ascending=False)"
   ]
  },
  {
   "cell_type": "code",
   "execution_count": 18,
   "metadata": {},
   "outputs": [
    {
     "data": {
      "text/plain": [
       "count    9.999511e+06\n",
       "mean     1.684798e+00\n",
       "std      1.323415e+00\n",
       "min      0.000000e+00\n",
       "25%      1.000000e+00\n",
       "50%      1.000000e+00\n",
       "75%      2.000000e+00\n",
       "max      2.080000e+02\n",
       "Name: passenger_count, dtype: float64"
      ]
     },
     "execution_count": 18,
     "metadata": {},
     "output_type": "execute_result"
    }
   ],
   "source": [
    "# checking the passenger variable now\n",
    "df_train['passenger_count'].describe()"
   ]
  },
  {
   "cell_type": "code",
   "execution_count": 19,
   "metadata": {},
   "outputs": [
    {
     "data": {
      "text/html": [
       "<div>\n",
       "<style scoped>\n",
       "    .dataframe tbody tr th:only-of-type {\n",
       "        vertical-align: middle;\n",
       "    }\n",
       "\n",
       "    .dataframe tbody tr th {\n",
       "        vertical-align: top;\n",
       "    }\n",
       "\n",
       "    .dataframe thead th {\n",
       "        text-align: right;\n",
       "    }\n",
       "</style>\n",
       "<table border=\"1\" class=\"dataframe\">\n",
       "  <thead>\n",
       "    <tr style=\"text-align: right;\">\n",
       "      <th></th>\n",
       "      <th>key</th>\n",
       "      <th>fare_amount</th>\n",
       "      <th>pickup_datetime</th>\n",
       "      <th>pickup_longitude</th>\n",
       "      <th>pickup_latitude</th>\n",
       "      <th>dropoff_longitude</th>\n",
       "      <th>dropoff_latitude</th>\n",
       "      <th>passenger_count</th>\n",
       "    </tr>\n",
       "  </thead>\n",
       "  <tbody>\n",
       "    <tr>\n",
       "      <th>929022</th>\n",
       "      <td>2009-07-30 11:54:00.000000193</td>\n",
       "      <td>3.30</td>\n",
       "      <td>2009-07-30 11:54:00 UTC</td>\n",
       "      <td>0.000000</td>\n",
       "      <td>0.000000</td>\n",
       "      <td>0.000000</td>\n",
       "      <td>0.000000</td>\n",
       "      <td>208</td>\n",
       "    </tr>\n",
       "    <tr>\n",
       "      <th>1007609</th>\n",
       "      <td>2014-06-24 15:13:00.00000040</td>\n",
       "      <td>104.00</td>\n",
       "      <td>2014-06-24 15:13:00 UTC</td>\n",
       "      <td>-74.015780</td>\n",
       "      <td>40.715420</td>\n",
       "      <td>-74.170280</td>\n",
       "      <td>40.708340</td>\n",
       "      <td>9</td>\n",
       "    </tr>\n",
       "    <tr>\n",
       "      <th>2154045</th>\n",
       "      <td>2010-12-16 11:21:00.000000209</td>\n",
       "      <td>3.30</td>\n",
       "      <td>2010-12-16 11:21:00 UTC</td>\n",
       "      <td>0.000000</td>\n",
       "      <td>0.000000</td>\n",
       "      <td>0.000000</td>\n",
       "      <td>0.000000</td>\n",
       "      <td>208</td>\n",
       "    </tr>\n",
       "    <tr>\n",
       "      <th>2198549</th>\n",
       "      <td>2010-12-15 14:20:00.00000010</td>\n",
       "      <td>3.30</td>\n",
       "      <td>2010-12-15 14:20:00 UTC</td>\n",
       "      <td>0.000000</td>\n",
       "      <td>0.000000</td>\n",
       "      <td>0.000000</td>\n",
       "      <td>0.000000</td>\n",
       "      <td>208</td>\n",
       "    </tr>\n",
       "    <tr>\n",
       "      <th>2910347</th>\n",
       "      <td>2010-12-16 06:44:00.00000039</td>\n",
       "      <td>4.50</td>\n",
       "      <td>2010-12-16 06:44:00 UTC</td>\n",
       "      <td>0.000000</td>\n",
       "      <td>0.000000</td>\n",
       "      <td>0.000000</td>\n",
       "      <td>0.000000</td>\n",
       "      <td>208</td>\n",
       "    </tr>\n",
       "    <tr>\n",
       "      <th>3107489</th>\n",
       "      <td>2009-05-12 14:50:00.000000175</td>\n",
       "      <td>2.70</td>\n",
       "      <td>2009-05-12 14:50:00 UTC</td>\n",
       "      <td>-73.937818</td>\n",
       "      <td>40.758260</td>\n",
       "      <td>-73.937827</td>\n",
       "      <td>40.758250</td>\n",
       "      <td>208</td>\n",
       "    </tr>\n",
       "    <tr>\n",
       "      <th>3323791</th>\n",
       "      <td>2011-08-27 01:24:00.000000168</td>\n",
       "      <td>8.50</td>\n",
       "      <td>2011-08-27 01:24:00 UTC</td>\n",
       "      <td>-73.987858</td>\n",
       "      <td>40.760340</td>\n",
       "      <td>-74.000682</td>\n",
       "      <td>40.752413</td>\n",
       "      <td>129</td>\n",
       "    </tr>\n",
       "    <tr>\n",
       "      <th>4095440</th>\n",
       "      <td>2015-06-14 08:56:16.0000001</td>\n",
       "      <td>37.04</td>\n",
       "      <td>2015-06-14 08:56:16 UTC</td>\n",
       "      <td>-73.982094</td>\n",
       "      <td>40.756252</td>\n",
       "      <td>-73.872482</td>\n",
       "      <td>40.774506</td>\n",
       "      <td>9</td>\n",
       "    </tr>\n",
       "    <tr>\n",
       "      <th>4103745</th>\n",
       "      <td>2010-12-22 12:11:00.000000230</td>\n",
       "      <td>23.70</td>\n",
       "      <td>2010-12-22 12:11:00 UTC</td>\n",
       "      <td>0.000000</td>\n",
       "      <td>0.000000</td>\n",
       "      <td>0.000000</td>\n",
       "      <td>0.000000</td>\n",
       "      <td>208</td>\n",
       "    </tr>\n",
       "    <tr>\n",
       "      <th>4432483</th>\n",
       "      <td>2009-05-11 13:56:00.00000088</td>\n",
       "      <td>11.10</td>\n",
       "      <td>2009-05-11 13:56:00 UTC</td>\n",
       "      <td>-73.937733</td>\n",
       "      <td>40.758267</td>\n",
       "      <td>-73.937737</td>\n",
       "      <td>40.758273</td>\n",
       "      <td>208</td>\n",
       "    </tr>\n",
       "    <tr>\n",
       "      <th>4467314</th>\n",
       "      <td>2015-01-01 21:32:16.0000007</td>\n",
       "      <td>8.50</td>\n",
       "      <td>2015-01-01 21:32:16 UTC</td>\n",
       "      <td>-74.005867</td>\n",
       "      <td>40.740643</td>\n",
       "      <td>-73.988045</td>\n",
       "      <td>40.735100</td>\n",
       "      <td>7</td>\n",
       "    </tr>\n",
       "    <tr>\n",
       "      <th>4679603</th>\n",
       "      <td>2010-02-20 01:53:00.00000037</td>\n",
       "      <td>9.30</td>\n",
       "      <td>2010-02-20 01:53:00 UTC</td>\n",
       "      <td>0.554830</td>\n",
       "      <td>0.000000</td>\n",
       "      <td>-2069.478952</td>\n",
       "      <td>28.121107</td>\n",
       "      <td>51</td>\n",
       "    </tr>\n",
       "    <tr>\n",
       "      <th>7001143</th>\n",
       "      <td>2009-02-26 08:29:00.000000201</td>\n",
       "      <td>2.70</td>\n",
       "      <td>2009-02-26 08:29:00 UTC</td>\n",
       "      <td>-73.937872</td>\n",
       "      <td>40.758333</td>\n",
       "      <td>-73.937835</td>\n",
       "      <td>40.758368</td>\n",
       "      <td>208</td>\n",
       "    </tr>\n",
       "    <tr>\n",
       "      <th>7275748</th>\n",
       "      <td>2013-02-24 01:16:01.0000004</td>\n",
       "      <td>14.50</td>\n",
       "      <td>2013-02-24 01:16:01 UTC</td>\n",
       "      <td>-73.984750</td>\n",
       "      <td>40.724213</td>\n",
       "      <td>-73.984752</td>\n",
       "      <td>40.701348</td>\n",
       "      <td>7</td>\n",
       "    </tr>\n",
       "    <tr>\n",
       "      <th>8951365</th>\n",
       "      <td>2011-01-05 13:37:00.000000119</td>\n",
       "      <td>2.50</td>\n",
       "      <td>2011-01-05 13:37:00 UTC</td>\n",
       "      <td>0.000000</td>\n",
       "      <td>0.000000</td>\n",
       "      <td>0.000000</td>\n",
       "      <td>0.000000</td>\n",
       "      <td>49</td>\n",
       "    </tr>\n",
       "    <tr>\n",
       "      <th>8955368</th>\n",
       "      <td>2014-11-30 22:03:54.0000005</td>\n",
       "      <td>30.83</td>\n",
       "      <td>2014-11-30 22:03:54 UTC</td>\n",
       "      <td>-73.863510</td>\n",
       "      <td>40.769807</td>\n",
       "      <td>-73.950583</td>\n",
       "      <td>40.770940</td>\n",
       "      <td>9</td>\n",
       "    </tr>\n",
       "    <tr>\n",
       "      <th>9310100</th>\n",
       "      <td>2012-03-08 10:44:00.00000031</td>\n",
       "      <td>3.30</td>\n",
       "      <td>2012-03-08 10:44:00 UTC</td>\n",
       "      <td>0.000000</td>\n",
       "      <td>0.000000</td>\n",
       "      <td>0.000000</td>\n",
       "      <td>0.000000</td>\n",
       "      <td>208</td>\n",
       "    </tr>\n",
       "  </tbody>\n",
       "</table>\n",
       "</div>"
      ],
      "text/plain": [
       "                                   key  fare_amount          pickup_datetime  \\\n",
       "929022   2009-07-30 11:54:00.000000193         3.30  2009-07-30 11:54:00 UTC   \n",
       "1007609   2014-06-24 15:13:00.00000040       104.00  2014-06-24 15:13:00 UTC   \n",
       "2154045  2010-12-16 11:21:00.000000209         3.30  2010-12-16 11:21:00 UTC   \n",
       "2198549   2010-12-15 14:20:00.00000010         3.30  2010-12-15 14:20:00 UTC   \n",
       "2910347   2010-12-16 06:44:00.00000039         4.50  2010-12-16 06:44:00 UTC   \n",
       "3107489  2009-05-12 14:50:00.000000175         2.70  2009-05-12 14:50:00 UTC   \n",
       "3323791  2011-08-27 01:24:00.000000168         8.50  2011-08-27 01:24:00 UTC   \n",
       "4095440    2015-06-14 08:56:16.0000001        37.04  2015-06-14 08:56:16 UTC   \n",
       "4103745  2010-12-22 12:11:00.000000230        23.70  2010-12-22 12:11:00 UTC   \n",
       "4432483   2009-05-11 13:56:00.00000088        11.10  2009-05-11 13:56:00 UTC   \n",
       "4467314    2015-01-01 21:32:16.0000007         8.50  2015-01-01 21:32:16 UTC   \n",
       "4679603   2010-02-20 01:53:00.00000037         9.30  2010-02-20 01:53:00 UTC   \n",
       "7001143  2009-02-26 08:29:00.000000201         2.70  2009-02-26 08:29:00 UTC   \n",
       "7275748    2013-02-24 01:16:01.0000004        14.50  2013-02-24 01:16:01 UTC   \n",
       "8951365  2011-01-05 13:37:00.000000119         2.50  2011-01-05 13:37:00 UTC   \n",
       "8955368    2014-11-30 22:03:54.0000005        30.83  2014-11-30 22:03:54 UTC   \n",
       "9310100   2012-03-08 10:44:00.00000031         3.30  2012-03-08 10:44:00 UTC   \n",
       "\n",
       "         pickup_longitude  pickup_latitude  dropoff_longitude  \\\n",
       "929022           0.000000         0.000000           0.000000   \n",
       "1007609        -74.015780        40.715420         -74.170280   \n",
       "2154045          0.000000         0.000000           0.000000   \n",
       "2198549          0.000000         0.000000           0.000000   \n",
       "2910347          0.000000         0.000000           0.000000   \n",
       "3107489        -73.937818        40.758260         -73.937827   \n",
       "3323791        -73.987858        40.760340         -74.000682   \n",
       "4095440        -73.982094        40.756252         -73.872482   \n",
       "4103745          0.000000         0.000000           0.000000   \n",
       "4432483        -73.937733        40.758267         -73.937737   \n",
       "4467314        -74.005867        40.740643         -73.988045   \n",
       "4679603          0.554830         0.000000       -2069.478952   \n",
       "7001143        -73.937872        40.758333         -73.937835   \n",
       "7275748        -73.984750        40.724213         -73.984752   \n",
       "8951365          0.000000         0.000000           0.000000   \n",
       "8955368        -73.863510        40.769807         -73.950583   \n",
       "9310100          0.000000         0.000000           0.000000   \n",
       "\n",
       "         dropoff_latitude  passenger_count  \n",
       "929022           0.000000              208  \n",
       "1007609         40.708340                9  \n",
       "2154045          0.000000              208  \n",
       "2198549          0.000000              208  \n",
       "2910347          0.000000              208  \n",
       "3107489         40.758250              208  \n",
       "3323791         40.752413              129  \n",
       "4095440         40.774506                9  \n",
       "4103745          0.000000              208  \n",
       "4432483         40.758273              208  \n",
       "4467314         40.735100                7  \n",
       "4679603         28.121107               51  \n",
       "7001143         40.758368              208  \n",
       "7275748         40.701348                7  \n",
       "8951365          0.000000               49  \n",
       "8955368         40.770940                9  \n",
       "9310100          0.000000              208  "
      ]
     },
     "execution_count": 19,
     "metadata": {},
     "output_type": "execute_result"
    }
   ],
   "source": [
    "df_train[df_train['passenger_count']>6]"
   ]
  },
  {
   "cell_type": "code",
   "execution_count": 20,
   "metadata": {},
   "outputs": [
    {
     "data": {
      "text/plain": [
       "(9999494, 8)"
      ]
     },
     "execution_count": 20,
     "metadata": {},
     "output_type": "execute_result"
    }
   ],
   "source": [
    "# removing the outlier for passenger column. there are passengers greater than 6 which do not make sense\n",
    "df_train = df_train.drop(df_train[df_train['passenger_count'] > 6].index, axis = 0)\n",
    "df_train.shape"
   ]
  },
  {
   "cell_type": "code",
   "execution_count": 21,
   "metadata": {},
   "outputs": [
    {
     "data": {
      "text/plain": [
       "count    9.999494e+06\n",
       "mean     1.684587e+00\n",
       "std      1.308056e+00\n",
       "min      0.000000e+00\n",
       "25%      1.000000e+00\n",
       "50%      1.000000e+00\n",
       "75%      2.000000e+00\n",
       "max      6.000000e+00\n",
       "Name: passenger_count, dtype: float64"
      ]
     },
     "execution_count": 21,
     "metadata": {},
     "output_type": "execute_result"
    }
   ],
   "source": [
    "df_train['passenger_count'].describe()"
   ]
  },
  {
   "cell_type": "code",
   "execution_count": 22,
   "metadata": {},
   "outputs": [
    {
     "data": {
      "text/html": [
       "<div>\n",
       "<style scoped>\n",
       "    .dataframe tbody tr th:only-of-type {\n",
       "        vertical-align: middle;\n",
       "    }\n",
       "\n",
       "    .dataframe tbody tr th {\n",
       "        vertical-align: top;\n",
       "    }\n",
       "\n",
       "    .dataframe thead th {\n",
       "        text-align: right;\n",
       "    }\n",
       "</style>\n",
       "<table border=\"1\" class=\"dataframe\">\n",
       "  <thead>\n",
       "    <tr style=\"text-align: right;\">\n",
       "      <th></th>\n",
       "      <th>key</th>\n",
       "      <th>fare_amount</th>\n",
       "      <th>pickup_datetime</th>\n",
       "      <th>pickup_longitude</th>\n",
       "      <th>pickup_latitude</th>\n",
       "      <th>dropoff_longitude</th>\n",
       "      <th>dropoff_latitude</th>\n",
       "      <th>passenger_count</th>\n",
       "    </tr>\n",
       "  </thead>\n",
       "  <tbody>\n",
       "  </tbody>\n",
       "</table>\n",
       "</div>"
      ],
      "text/plain": [
       "Empty DataFrame\n",
       "Columns: [key, fare_amount, pickup_datetime, pickup_longitude, pickup_latitude, dropoff_longitude, dropoff_latitude, passenger_count]\n",
       "Index: []"
      ]
     },
     "execution_count": 22,
     "metadata": {},
     "output_type": "execute_result"
    }
   ],
   "source": [
    "df_train[df_train['passenger_count']>6]"
   ]
  },
  {
   "cell_type": "code",
   "execution_count": 23,
   "metadata": {},
   "outputs": [
    {
     "data": {
      "text/plain": [
       "count    9.999494e+06\n",
       "mean     3.991947e+01\n",
       "std      9.322414e+00\n",
       "min     -3.492264e+03\n",
       "25%      4.073491e+01\n",
       "50%      4.075263e+01\n",
       "75%      4.076712e+01\n",
       "max      3.344459e+03\n",
       "Name: pickup_latitude, dtype: float64"
      ]
     },
     "execution_count": 23,
     "metadata": {},
     "output_type": "execute_result"
    }
   ],
   "source": [
    "# Exploring latitude and longitude\n",
    "\n",
    "df_train['pickup_latitude'].describe()\n"
   ]
  },
  {
   "cell_type": "code",
   "execution_count": 24,
   "metadata": {},
   "outputs": [
    {
     "data": {
      "text/plain": [
       "count    9.999494e+06\n",
       "mean    -7.250799e+01\n",
       "std      1.299369e+01\n",
       "min     -3.439245e+03\n",
       "25%     -7.399207e+01\n",
       "50%     -7.398181e+01\n",
       "75%     -7.396710e+01\n",
       "max      3.457626e+03\n",
       "Name: pickup_longitude, dtype: float64"
      ]
     },
     "execution_count": 24,
     "metadata": {},
     "output_type": "execute_result"
    }
   ],
   "source": [
    "df_train['pickup_longitude'].describe()"
   ]
  },
  {
   "cell_type": "code",
   "execution_count": 25,
   "metadata": {},
   "outputs": [
    {
     "data": {
      "text/plain": [
       "(-3439.2450619999995, 3457.6256829999998)"
      ]
     },
     "execution_count": 25,
     "metadata": {},
     "output_type": "execute_result"
    }
   ],
   "source": [
    "min(df_train.pickup_longitude.min(), df_train.dropoff_longitude.min()), \\\n",
    "max(df_train.pickup_longitude.max(), df_train.dropoff_longitude.max())"
   ]
  },
  {
   "cell_type": "code",
   "execution_count": 26,
   "metadata": {},
   "outputs": [
    {
     "data": {
      "text/plain": [
       "(-3492.263768, 3351.403027)"
      ]
     },
     "execution_count": 26,
     "metadata": {},
     "output_type": "execute_result"
    }
   ],
   "source": [
    "min(df_train.pickup_latitude.min(), df_train.dropoff_latitude.min()), \\\n",
    "max(df_train.pickup_latitude.max(), df_train.dropoff_latitude.max())"
   ]
  },
  {
   "cell_type": "markdown",
   "metadata": {},
   "source": [
    "things to add:\n",
    "\n",
    "\n",
    "1. Lattitude and Longitude: outlier and missing value treatment\n",
    "2. MAke a month, day and date variable. Make a time variable.\n",
    "3. EDA:\n",
    "    - bar plots- to discuss their distributions\n",
    "    - Correlation graphs- to check which all have relation to the independent var\n",
    "    - make plots like histograms, pie charts, \n",
    "4. Later part we should be making different modules"
   ]
  },
  {
   "cell_type": "code",
   "execution_count": 27,
   "metadata": {},
   "outputs": [
    {
     "data": {
      "text/html": [
       "<div>\n",
       "<style scoped>\n",
       "    .dataframe tbody tr th:only-of-type {\n",
       "        vertical-align: middle;\n",
       "    }\n",
       "\n",
       "    .dataframe tbody tr th {\n",
       "        vertical-align: top;\n",
       "    }\n",
       "\n",
       "    .dataframe thead th {\n",
       "        text-align: right;\n",
       "    }\n",
       "</style>\n",
       "<table border=\"1\" class=\"dataframe\">\n",
       "  <thead>\n",
       "    <tr style=\"text-align: right;\">\n",
       "      <th></th>\n",
       "      <th>key</th>\n",
       "      <th>fare_amount</th>\n",
       "      <th>pickup_datetime</th>\n",
       "      <th>pickup_longitude</th>\n",
       "      <th>pickup_latitude</th>\n",
       "      <th>dropoff_longitude</th>\n",
       "      <th>dropoff_latitude</th>\n",
       "      <th>passenger_count</th>\n",
       "    </tr>\n",
       "  </thead>\n",
       "  <tbody>\n",
       "    <tr>\n",
       "      <th>11</th>\n",
       "      <td>2012-12-24 11:24:00.00000098</td>\n",
       "      <td>5.5</td>\n",
       "      <td>2012-12-24 11:24:00 UTC</td>\n",
       "      <td>0.000000</td>\n",
       "      <td>0.000000</td>\n",
       "      <td>0.000000</td>\n",
       "      <td>0.000000</td>\n",
       "      <td>3</td>\n",
       "    </tr>\n",
       "    <tr>\n",
       "      <th>15</th>\n",
       "      <td>2013-11-23 12:57:00.000000190</td>\n",
       "      <td>5.0</td>\n",
       "      <td>2013-11-23 12:57:00 UTC</td>\n",
       "      <td>0.000000</td>\n",
       "      <td>0.000000</td>\n",
       "      <td>0.000000</td>\n",
       "      <td>0.000000</td>\n",
       "      <td>1</td>\n",
       "    </tr>\n",
       "    <tr>\n",
       "      <th>26</th>\n",
       "      <td>2011-02-07 20:01:00.000000114</td>\n",
       "      <td>6.5</td>\n",
       "      <td>2011-02-07 20:01:00 UTC</td>\n",
       "      <td>0.000000</td>\n",
       "      <td>0.000000</td>\n",
       "      <td>0.000000</td>\n",
       "      <td>0.000000</td>\n",
       "      <td>1</td>\n",
       "    </tr>\n",
       "    <tr>\n",
       "      <th>124</th>\n",
       "      <td>2013-01-17 17:22:00.00000043</td>\n",
       "      <td>8.0</td>\n",
       "      <td>2013-01-17 17:22:00 UTC</td>\n",
       "      <td>0.000000</td>\n",
       "      <td>0.000000</td>\n",
       "      <td>0.000000</td>\n",
       "      <td>0.000000</td>\n",
       "      <td>2</td>\n",
       "    </tr>\n",
       "    <tr>\n",
       "      <th>192</th>\n",
       "      <td>2010-09-05 17:08:00.00000092</td>\n",
       "      <td>3.7</td>\n",
       "      <td>2010-09-05 17:08:00 UTC</td>\n",
       "      <td>0.000000</td>\n",
       "      <td>0.000000</td>\n",
       "      <td>0.000000</td>\n",
       "      <td>0.000000</td>\n",
       "      <td>5</td>\n",
       "    </tr>\n",
       "    <tr>\n",
       "      <th>233</th>\n",
       "      <td>2011-07-24 01:14:35.0000002</td>\n",
       "      <td>8.5</td>\n",
       "      <td>2011-07-24 01:14:35 UTC</td>\n",
       "      <td>0.000000</td>\n",
       "      <td>0.000000</td>\n",
       "      <td>0.000000</td>\n",
       "      <td>0.000000</td>\n",
       "      <td>2</td>\n",
       "    </tr>\n",
       "    <tr>\n",
       "      <th>273</th>\n",
       "      <td>2009-10-30 18:13:00.00000021</td>\n",
       "      <td>8.1</td>\n",
       "      <td>2009-10-30 18:13:00 UTC</td>\n",
       "      <td>0.000000</td>\n",
       "      <td>0.000000</td>\n",
       "      <td>0.000000</td>\n",
       "      <td>0.000000</td>\n",
       "      <td>4</td>\n",
       "    </tr>\n",
       "    <tr>\n",
       "      <th>357</th>\n",
       "      <td>2013-07-04 16:41:27.0000002</td>\n",
       "      <td>8.5</td>\n",
       "      <td>2013-07-04 16:41:27 UTC</td>\n",
       "      <td>0.000000</td>\n",
       "      <td>0.000000</td>\n",
       "      <td>0.000000</td>\n",
       "      <td>0.000000</td>\n",
       "      <td>1</td>\n",
       "    </tr>\n",
       "    <tr>\n",
       "      <th>376</th>\n",
       "      <td>2014-05-29 05:57:22.0000001</td>\n",
       "      <td>2.5</td>\n",
       "      <td>2014-05-29 05:57:22 UTC</td>\n",
       "      <td>0.000000</td>\n",
       "      <td>0.000000</td>\n",
       "      <td>0.000000</td>\n",
       "      <td>0.000000</td>\n",
       "      <td>1</td>\n",
       "    </tr>\n",
       "    <tr>\n",
       "      <th>387</th>\n",
       "      <td>2012-11-15 08:39:00.00000095</td>\n",
       "      <td>13.0</td>\n",
       "      <td>2012-11-15 08:39:00 UTC</td>\n",
       "      <td>0.000000</td>\n",
       "      <td>0.000000</td>\n",
       "      <td>0.000000</td>\n",
       "      <td>0.000000</td>\n",
       "      <td>1</td>\n",
       "    </tr>\n",
       "    <tr>\n",
       "      <th>472</th>\n",
       "      <td>2009-02-22 22:48:00.000000130</td>\n",
       "      <td>2.5</td>\n",
       "      <td>2009-02-22 22:48:00 UTC</td>\n",
       "      <td>0.000000</td>\n",
       "      <td>0.000000</td>\n",
       "      <td>-74.005433</td>\n",
       "      <td>40.726685</td>\n",
       "      <td>2</td>\n",
       "    </tr>\n",
       "    <tr>\n",
       "      <th>498</th>\n",
       "      <td>2009-03-16 04:47:17.0000001</td>\n",
       "      <td>17.0</td>\n",
       "      <td>2009-03-16 04:47:17 UTC</td>\n",
       "      <td>0.000000</td>\n",
       "      <td>0.000000</td>\n",
       "      <td>0.000000</td>\n",
       "      <td>0.000000</td>\n",
       "      <td>1</td>\n",
       "    </tr>\n",
       "    <tr>\n",
       "      <th>540</th>\n",
       "      <td>2013-10-29 01:09:14.0000002</td>\n",
       "      <td>16.0</td>\n",
       "      <td>2013-10-29 01:09:14 UTC</td>\n",
       "      <td>0.000000</td>\n",
       "      <td>0.000000</td>\n",
       "      <td>0.000000</td>\n",
       "      <td>0.000000</td>\n",
       "      <td>1</td>\n",
       "    </tr>\n",
       "    <tr>\n",
       "      <th>542</th>\n",
       "      <td>2009-12-29 14:23:00.000000158</td>\n",
       "      <td>4.5</td>\n",
       "      <td>2009-12-29 14:23:00 UTC</td>\n",
       "      <td>0.000000</td>\n",
       "      <td>0.000000</td>\n",
       "      <td>0.000000</td>\n",
       "      <td>0.000000</td>\n",
       "      <td>1</td>\n",
       "    </tr>\n",
       "    <tr>\n",
       "      <th>568</th>\n",
       "      <td>2014-10-08 06:49:18.0000001</td>\n",
       "      <td>6.5</td>\n",
       "      <td>2014-10-08 06:49:18 UTC</td>\n",
       "      <td>0.000000</td>\n",
       "      <td>0.000000</td>\n",
       "      <td>0.000000</td>\n",
       "      <td>0.000000</td>\n",
       "      <td>1</td>\n",
       "    </tr>\n",
       "    <tr>\n",
       "      <th>660</th>\n",
       "      <td>2010-08-18 03:46:00.0000002</td>\n",
       "      <td>13.3</td>\n",
       "      <td>2010-08-18 03:46:00 UTC</td>\n",
       "      <td>0.000000</td>\n",
       "      <td>0.000000</td>\n",
       "      <td>0.000000</td>\n",
       "      <td>0.000000</td>\n",
       "      <td>5</td>\n",
       "    </tr>\n",
       "    <tr>\n",
       "      <th>728</th>\n",
       "      <td>2010-02-13 01:52:11.0000003</td>\n",
       "      <td>11.7</td>\n",
       "      <td>2010-02-13 01:52:11 UTC</td>\n",
       "      <td>0.000000</td>\n",
       "      <td>0.000000</td>\n",
       "      <td>0.000000</td>\n",
       "      <td>0.000000</td>\n",
       "      <td>1</td>\n",
       "    </tr>\n",
       "    <tr>\n",
       "      <th>799</th>\n",
       "      <td>2013-12-08 23:39:00.00000080</td>\n",
       "      <td>3.0</td>\n",
       "      <td>2013-12-08 23:39:00 UTC</td>\n",
       "      <td>0.000000</td>\n",
       "      <td>0.000000</td>\n",
       "      <td>0.000000</td>\n",
       "      <td>0.000000</td>\n",
       "      <td>5</td>\n",
       "    </tr>\n",
       "    <tr>\n",
       "      <th>872</th>\n",
       "      <td>2011-09-25 02:07:00.000000139</td>\n",
       "      <td>8.5</td>\n",
       "      <td>2011-09-25 02:07:00 UTC</td>\n",
       "      <td>0.000000</td>\n",
       "      <td>0.000000</td>\n",
       "      <td>0.000000</td>\n",
       "      <td>0.000000</td>\n",
       "      <td>1</td>\n",
       "    </tr>\n",
       "    <tr>\n",
       "      <th>881</th>\n",
       "      <td>2011-07-19 23:43:12.0000001</td>\n",
       "      <td>8.5</td>\n",
       "      <td>2011-07-19 23:43:12 UTC</td>\n",
       "      <td>0.000000</td>\n",
       "      <td>0.000000</td>\n",
       "      <td>0.000000</td>\n",
       "      <td>0.000000</td>\n",
       "      <td>1</td>\n",
       "    </tr>\n",
       "    <tr>\n",
       "      <th>887</th>\n",
       "      <td>2014-09-26 19:41:41.0000004</td>\n",
       "      <td>12.0</td>\n",
       "      <td>2014-09-26 19:41:41 UTC</td>\n",
       "      <td>0.000000</td>\n",
       "      <td>0.000000</td>\n",
       "      <td>0.000000</td>\n",
       "      <td>0.000000</td>\n",
       "      <td>1</td>\n",
       "    </tr>\n",
       "    <tr>\n",
       "      <th>958</th>\n",
       "      <td>2011-02-22 14:09:00.00000066</td>\n",
       "      <td>2.5</td>\n",
       "      <td>2011-02-22 14:09:00 UTC</td>\n",
       "      <td>0.000000</td>\n",
       "      <td>0.000000</td>\n",
       "      <td>0.000000</td>\n",
       "      <td>0.000000</td>\n",
       "      <td>5</td>\n",
       "    </tr>\n",
       "    <tr>\n",
       "      <th>960</th>\n",
       "      <td>2013-05-31 05:02:30.0000001</td>\n",
       "      <td>12.5</td>\n",
       "      <td>2013-05-31 05:02:30 UTC</td>\n",
       "      <td>0.000000</td>\n",
       "      <td>0.000000</td>\n",
       "      <td>0.000000</td>\n",
       "      <td>0.000000</td>\n",
       "      <td>1</td>\n",
       "    </tr>\n",
       "    <tr>\n",
       "      <th>964</th>\n",
       "      <td>2009-06-30 10:20:09.0000005</td>\n",
       "      <td>14.1</td>\n",
       "      <td>2009-06-30 10:20:09 UTC</td>\n",
       "      <td>0.000000</td>\n",
       "      <td>0.000000</td>\n",
       "      <td>0.000000</td>\n",
       "      <td>0.000000</td>\n",
       "      <td>1</td>\n",
       "    </tr>\n",
       "    <tr>\n",
       "      <th>966</th>\n",
       "      <td>2015-06-08 01:59:17.0000001</td>\n",
       "      <td>28.0</td>\n",
       "      <td>2015-06-08 01:59:17 UTC</td>\n",
       "      <td>0.000000</td>\n",
       "      <td>0.000000</td>\n",
       "      <td>0.000000</td>\n",
       "      <td>0.000000</td>\n",
       "      <td>1</td>\n",
       "    </tr>\n",
       "    <tr>\n",
       "      <th>1260</th>\n",
       "      <td>2011-03-10 20:25:00.00000049</td>\n",
       "      <td>5.7</td>\n",
       "      <td>2011-03-10 20:25:00 UTC</td>\n",
       "      <td>-73.973907</td>\n",
       "      <td>40.754743</td>\n",
       "      <td>0.000000</td>\n",
       "      <td>0.000000</td>\n",
       "      <td>2</td>\n",
       "    </tr>\n",
       "    <tr>\n",
       "      <th>1314</th>\n",
       "      <td>2012-09-20 20:06:50.0000001</td>\n",
       "      <td>11.5</td>\n",
       "      <td>2012-09-20 20:06:50 UTC</td>\n",
       "      <td>0.000000</td>\n",
       "      <td>0.000000</td>\n",
       "      <td>0.000000</td>\n",
       "      <td>0.000000</td>\n",
       "      <td>1</td>\n",
       "    </tr>\n",
       "    <tr>\n",
       "      <th>1316</th>\n",
       "      <td>2014-06-17 17:50:00.000000213</td>\n",
       "      <td>8.5</td>\n",
       "      <td>2014-06-17 17:50:00 UTC</td>\n",
       "      <td>0.000000</td>\n",
       "      <td>0.000000</td>\n",
       "      <td>0.000000</td>\n",
       "      <td>0.000000</td>\n",
       "      <td>1</td>\n",
       "    </tr>\n",
       "    <tr>\n",
       "      <th>1397</th>\n",
       "      <td>2009-02-17 07:30:00.00000027</td>\n",
       "      <td>4.5</td>\n",
       "      <td>2009-02-17 07:30:00 UTC</td>\n",
       "      <td>0.000000</td>\n",
       "      <td>0.000000</td>\n",
       "      <td>0.000000</td>\n",
       "      <td>0.000000</td>\n",
       "      <td>2</td>\n",
       "    </tr>\n",
       "    <tr>\n",
       "      <th>1441</th>\n",
       "      <td>2014-02-22 17:20:23.0000004</td>\n",
       "      <td>25.0</td>\n",
       "      <td>2014-02-22 17:20:23 UTC</td>\n",
       "      <td>0.000000</td>\n",
       "      <td>0.000000</td>\n",
       "      <td>0.000000</td>\n",
       "      <td>0.000000</td>\n",
       "      <td>2</td>\n",
       "    </tr>\n",
       "    <tr>\n",
       "      <th>...</th>\n",
       "      <td>...</td>\n",
       "      <td>...</td>\n",
       "      <td>...</td>\n",
       "      <td>...</td>\n",
       "      <td>...</td>\n",
       "      <td>...</td>\n",
       "      <td>...</td>\n",
       "      <td>...</td>\n",
       "    </tr>\n",
       "    <tr>\n",
       "      <th>9998657</th>\n",
       "      <td>2014-08-01 22:16:58.0000007</td>\n",
       "      <td>6.0</td>\n",
       "      <td>2014-08-01 22:16:58 UTC</td>\n",
       "      <td>0.000000</td>\n",
       "      <td>0.000000</td>\n",
       "      <td>-73.992972</td>\n",
       "      <td>40.735817</td>\n",
       "      <td>1</td>\n",
       "    </tr>\n",
       "    <tr>\n",
       "      <th>9998706</th>\n",
       "      <td>2014-07-08 23:33:38.0000001</td>\n",
       "      <td>25.0</td>\n",
       "      <td>2014-07-08 23:33:38 UTC</td>\n",
       "      <td>0.000000</td>\n",
       "      <td>0.000000</td>\n",
       "      <td>0.000000</td>\n",
       "      <td>0.000000</td>\n",
       "      <td>1</td>\n",
       "    </tr>\n",
       "    <tr>\n",
       "      <th>9998709</th>\n",
       "      <td>2011-06-30 22:47:00.00000064</td>\n",
       "      <td>6.9</td>\n",
       "      <td>2011-06-30 22:47:00 UTC</td>\n",
       "      <td>0.000000</td>\n",
       "      <td>0.000000</td>\n",
       "      <td>0.000000</td>\n",
       "      <td>0.000000</td>\n",
       "      <td>1</td>\n",
       "    </tr>\n",
       "    <tr>\n",
       "      <th>9998739</th>\n",
       "      <td>2011-07-02 11:32:00.00000048</td>\n",
       "      <td>8.9</td>\n",
       "      <td>2011-07-02 11:32:00 UTC</td>\n",
       "      <td>0.000000</td>\n",
       "      <td>0.000000</td>\n",
       "      <td>0.000000</td>\n",
       "      <td>0.000000</td>\n",
       "      <td>3</td>\n",
       "    </tr>\n",
       "    <tr>\n",
       "      <th>9998813</th>\n",
       "      <td>2012-01-29 16:57:00.00000041</td>\n",
       "      <td>5.3</td>\n",
       "      <td>2012-01-29 16:57:00 UTC</td>\n",
       "      <td>0.000000</td>\n",
       "      <td>0.000000</td>\n",
       "      <td>0.000000</td>\n",
       "      <td>0.000000</td>\n",
       "      <td>1</td>\n",
       "    </tr>\n",
       "    <tr>\n",
       "      <th>9998861</th>\n",
       "      <td>2013-06-04 09:40:00.000000149</td>\n",
       "      <td>2.5</td>\n",
       "      <td>2013-06-04 09:40:00 UTC</td>\n",
       "      <td>0.000000</td>\n",
       "      <td>0.000000</td>\n",
       "      <td>0.000000</td>\n",
       "      <td>0.000000</td>\n",
       "      <td>6</td>\n",
       "    </tr>\n",
       "    <tr>\n",
       "      <th>9998880</th>\n",
       "      <td>2014-08-18 00:03:21.0000004</td>\n",
       "      <td>14.5</td>\n",
       "      <td>2014-08-18 00:03:21 UTC</td>\n",
       "      <td>0.000000</td>\n",
       "      <td>0.000000</td>\n",
       "      <td>0.000000</td>\n",
       "      <td>0.000000</td>\n",
       "      <td>1</td>\n",
       "    </tr>\n",
       "    <tr>\n",
       "      <th>9998906</th>\n",
       "      <td>2011-11-25 17:43:38.0000003</td>\n",
       "      <td>4.5</td>\n",
       "      <td>2011-11-25 17:43:38 UTC</td>\n",
       "      <td>0.000000</td>\n",
       "      <td>0.000000</td>\n",
       "      <td>0.000000</td>\n",
       "      <td>0.000000</td>\n",
       "      <td>4</td>\n",
       "    </tr>\n",
       "    <tr>\n",
       "      <th>9998909</th>\n",
       "      <td>2010-02-11 12:23:00.00000028</td>\n",
       "      <td>5.7</td>\n",
       "      <td>2010-02-11 12:23:00 UTC</td>\n",
       "      <td>0.000000</td>\n",
       "      <td>0.000000</td>\n",
       "      <td>0.000000</td>\n",
       "      <td>0.000000</td>\n",
       "      <td>2</td>\n",
       "    </tr>\n",
       "    <tr>\n",
       "      <th>9998995</th>\n",
       "      <td>2012-12-27 14:36:35.0000002</td>\n",
       "      <td>91.5</td>\n",
       "      <td>2012-12-27 14:36:35 UTC</td>\n",
       "      <td>0.000000</td>\n",
       "      <td>0.000000</td>\n",
       "      <td>0.000000</td>\n",
       "      <td>0.000000</td>\n",
       "      <td>1</td>\n",
       "    </tr>\n",
       "    <tr>\n",
       "      <th>9999002</th>\n",
       "      <td>2013-05-07 18:54:43.0000004</td>\n",
       "      <td>11.0</td>\n",
       "      <td>2013-05-07 18:54:43 UTC</td>\n",
       "      <td>0.000000</td>\n",
       "      <td>0.000000</td>\n",
       "      <td>0.000000</td>\n",
       "      <td>0.000000</td>\n",
       "      <td>1</td>\n",
       "    </tr>\n",
       "    <tr>\n",
       "      <th>9999036</th>\n",
       "      <td>2012-09-08 08:56:00.00000071</td>\n",
       "      <td>7.0</td>\n",
       "      <td>2012-09-08 08:56:00 UTC</td>\n",
       "      <td>0.000000</td>\n",
       "      <td>0.000000</td>\n",
       "      <td>0.000000</td>\n",
       "      <td>0.000000</td>\n",
       "      <td>1</td>\n",
       "    </tr>\n",
       "    <tr>\n",
       "      <th>9999074</th>\n",
       "      <td>2011-03-04 21:42:00.000000130</td>\n",
       "      <td>14.5</td>\n",
       "      <td>2011-03-04 21:42:00 UTC</td>\n",
       "      <td>0.000000</td>\n",
       "      <td>0.000000</td>\n",
       "      <td>0.000000</td>\n",
       "      <td>0.000000</td>\n",
       "      <td>2</td>\n",
       "    </tr>\n",
       "    <tr>\n",
       "      <th>9999102</th>\n",
       "      <td>2012-10-15 13:21:00.00000023</td>\n",
       "      <td>8.0</td>\n",
       "      <td>2012-10-15 13:21:00 UTC</td>\n",
       "      <td>0.000000</td>\n",
       "      <td>0.000000</td>\n",
       "      <td>0.000000</td>\n",
       "      <td>0.000000</td>\n",
       "      <td>2</td>\n",
       "    </tr>\n",
       "    <tr>\n",
       "      <th>9999137</th>\n",
       "      <td>2012-12-03 15:15:00.00000095</td>\n",
       "      <td>5.0</td>\n",
       "      <td>2012-12-03 15:15:00 UTC</td>\n",
       "      <td>0.000000</td>\n",
       "      <td>0.000000</td>\n",
       "      <td>0.000000</td>\n",
       "      <td>0.000000</td>\n",
       "      <td>2</td>\n",
       "    </tr>\n",
       "    <tr>\n",
       "      <th>9999146</th>\n",
       "      <td>2012-08-18 16:32:19.0000003</td>\n",
       "      <td>49.8</td>\n",
       "      <td>2012-08-18 16:32:19 UTC</td>\n",
       "      <td>0.000000</td>\n",
       "      <td>0.000000</td>\n",
       "      <td>-73.978997</td>\n",
       "      <td>40.772235</td>\n",
       "      <td>1</td>\n",
       "    </tr>\n",
       "    <tr>\n",
       "      <th>9999166</th>\n",
       "      <td>2012-03-30 11:18:45.0000001</td>\n",
       "      <td>49.8</td>\n",
       "      <td>2012-03-30 11:18:45 UTC</td>\n",
       "      <td>0.000000</td>\n",
       "      <td>0.000000</td>\n",
       "      <td>0.000000</td>\n",
       "      <td>0.000000</td>\n",
       "      <td>3</td>\n",
       "    </tr>\n",
       "    <tr>\n",
       "      <th>9999285</th>\n",
       "      <td>2013-09-08 00:26:00.00000094</td>\n",
       "      <td>17.0</td>\n",
       "      <td>2013-09-08 00:26:00 UTC</td>\n",
       "      <td>0.000000</td>\n",
       "      <td>0.000000</td>\n",
       "      <td>0.000000</td>\n",
       "      <td>0.000000</td>\n",
       "      <td>2</td>\n",
       "    </tr>\n",
       "    <tr>\n",
       "      <th>9999298</th>\n",
       "      <td>2012-06-12 22:25:45.0000002</td>\n",
       "      <td>20.1</td>\n",
       "      <td>2012-06-12 22:25:45 UTC</td>\n",
       "      <td>0.000000</td>\n",
       "      <td>0.000000</td>\n",
       "      <td>0.000000</td>\n",
       "      <td>0.000000</td>\n",
       "      <td>3</td>\n",
       "    </tr>\n",
       "    <tr>\n",
       "      <th>9999311</th>\n",
       "      <td>2011-03-22 19:33:08.0000002</td>\n",
       "      <td>4.9</td>\n",
       "      <td>2011-03-22 19:33:08 UTC</td>\n",
       "      <td>0.000000</td>\n",
       "      <td>0.000000</td>\n",
       "      <td>0.000000</td>\n",
       "      <td>0.000000</td>\n",
       "      <td>3</td>\n",
       "    </tr>\n",
       "    <tr>\n",
       "      <th>9999349</th>\n",
       "      <td>2011-04-24 17:21:00.00000056</td>\n",
       "      <td>4.1</td>\n",
       "      <td>2011-04-24 17:21:00 UTC</td>\n",
       "      <td>0.000000</td>\n",
       "      <td>0.000000</td>\n",
       "      <td>0.000000</td>\n",
       "      <td>0.000000</td>\n",
       "      <td>2</td>\n",
       "    </tr>\n",
       "    <tr>\n",
       "      <th>9999377</th>\n",
       "      <td>2010-12-21 22:33:00.000000144</td>\n",
       "      <td>8.1</td>\n",
       "      <td>2010-12-21 22:33:00 UTC</td>\n",
       "      <td>0.000000</td>\n",
       "      <td>0.000000</td>\n",
       "      <td>0.000000</td>\n",
       "      <td>0.000000</td>\n",
       "      <td>1</td>\n",
       "    </tr>\n",
       "    <tr>\n",
       "      <th>9999392</th>\n",
       "      <td>2015-04-01 00:24:41.0000002</td>\n",
       "      <td>14.5</td>\n",
       "      <td>2015-04-01 00:24:41 UTC</td>\n",
       "      <td>0.000000</td>\n",
       "      <td>0.000000</td>\n",
       "      <td>0.000000</td>\n",
       "      <td>0.000000</td>\n",
       "      <td>1</td>\n",
       "    </tr>\n",
       "    <tr>\n",
       "      <th>9999446</th>\n",
       "      <td>2010-11-01 12:43:00.0000001</td>\n",
       "      <td>8.1</td>\n",
       "      <td>2010-11-01 12:43:00 UTC</td>\n",
       "      <td>0.000000</td>\n",
       "      <td>0.000000</td>\n",
       "      <td>0.000000</td>\n",
       "      <td>0.000000</td>\n",
       "      <td>3</td>\n",
       "    </tr>\n",
       "    <tr>\n",
       "      <th>9999478</th>\n",
       "      <td>2013-12-29 22:58:00.0000001</td>\n",
       "      <td>33.5</td>\n",
       "      <td>2013-12-29 22:58:00 UTC</td>\n",
       "      <td>0.000000</td>\n",
       "      <td>0.000000</td>\n",
       "      <td>0.000000</td>\n",
       "      <td>0.000000</td>\n",
       "      <td>1</td>\n",
       "    </tr>\n",
       "    <tr>\n",
       "      <th>9999693</th>\n",
       "      <td>2011-04-20 18:11:00.00000060</td>\n",
       "      <td>5.7</td>\n",
       "      <td>2011-04-20 18:11:00 UTC</td>\n",
       "      <td>0.000000</td>\n",
       "      <td>0.000000</td>\n",
       "      <td>0.000000</td>\n",
       "      <td>0.000000</td>\n",
       "      <td>1</td>\n",
       "    </tr>\n",
       "    <tr>\n",
       "      <th>9999738</th>\n",
       "      <td>2013-02-19 22:06:26.0000005</td>\n",
       "      <td>5.5</td>\n",
       "      <td>2013-02-19 22:06:26 UTC</td>\n",
       "      <td>0.000000</td>\n",
       "      <td>0.000000</td>\n",
       "      <td>0.000000</td>\n",
       "      <td>0.000000</td>\n",
       "      <td>1</td>\n",
       "    </tr>\n",
       "    <tr>\n",
       "      <th>9999771</th>\n",
       "      <td>2014-08-10 18:48:00.00000016</td>\n",
       "      <td>10.0</td>\n",
       "      <td>2014-08-10 18:48:00 UTC</td>\n",
       "      <td>0.000000</td>\n",
       "      <td>0.000000</td>\n",
       "      <td>0.000000</td>\n",
       "      <td>0.000000</td>\n",
       "      <td>3</td>\n",
       "    </tr>\n",
       "    <tr>\n",
       "      <th>9999818</th>\n",
       "      <td>2011-08-04 23:30:00.000000140</td>\n",
       "      <td>4.9</td>\n",
       "      <td>2011-08-04 23:30:00 UTC</td>\n",
       "      <td>0.000000</td>\n",
       "      <td>0.000000</td>\n",
       "      <td>0.000000</td>\n",
       "      <td>0.000000</td>\n",
       "      <td>2</td>\n",
       "    </tr>\n",
       "    <tr>\n",
       "      <th>9999887</th>\n",
       "      <td>2011-12-23 17:24:00.000000165</td>\n",
       "      <td>14.1</td>\n",
       "      <td>2011-12-23 17:24:00 UTC</td>\n",
       "      <td>0.000000</td>\n",
       "      <td>0.000000</td>\n",
       "      <td>0.000000</td>\n",
       "      <td>0.000000</td>\n",
       "      <td>1</td>\n",
       "    </tr>\n",
       "  </tbody>\n",
       "</table>\n",
       "<p>199955 rows × 8 columns</p>\n",
       "</div>"
      ],
      "text/plain": [
       "                                   key  fare_amount          pickup_datetime  \\\n",
       "11        2012-12-24 11:24:00.00000098          5.5  2012-12-24 11:24:00 UTC   \n",
       "15       2013-11-23 12:57:00.000000190          5.0  2013-11-23 12:57:00 UTC   \n",
       "26       2011-02-07 20:01:00.000000114          6.5  2011-02-07 20:01:00 UTC   \n",
       "124       2013-01-17 17:22:00.00000043          8.0  2013-01-17 17:22:00 UTC   \n",
       "192       2010-09-05 17:08:00.00000092          3.7  2010-09-05 17:08:00 UTC   \n",
       "233        2011-07-24 01:14:35.0000002          8.5  2011-07-24 01:14:35 UTC   \n",
       "273       2009-10-30 18:13:00.00000021          8.1  2009-10-30 18:13:00 UTC   \n",
       "357        2013-07-04 16:41:27.0000002          8.5  2013-07-04 16:41:27 UTC   \n",
       "376        2014-05-29 05:57:22.0000001          2.5  2014-05-29 05:57:22 UTC   \n",
       "387       2012-11-15 08:39:00.00000095         13.0  2012-11-15 08:39:00 UTC   \n",
       "472      2009-02-22 22:48:00.000000130          2.5  2009-02-22 22:48:00 UTC   \n",
       "498        2009-03-16 04:47:17.0000001         17.0  2009-03-16 04:47:17 UTC   \n",
       "540        2013-10-29 01:09:14.0000002         16.0  2013-10-29 01:09:14 UTC   \n",
       "542      2009-12-29 14:23:00.000000158          4.5  2009-12-29 14:23:00 UTC   \n",
       "568        2014-10-08 06:49:18.0000001          6.5  2014-10-08 06:49:18 UTC   \n",
       "660        2010-08-18 03:46:00.0000002         13.3  2010-08-18 03:46:00 UTC   \n",
       "728        2010-02-13 01:52:11.0000003         11.7  2010-02-13 01:52:11 UTC   \n",
       "799       2013-12-08 23:39:00.00000080          3.0  2013-12-08 23:39:00 UTC   \n",
       "872      2011-09-25 02:07:00.000000139          8.5  2011-09-25 02:07:00 UTC   \n",
       "881        2011-07-19 23:43:12.0000001          8.5  2011-07-19 23:43:12 UTC   \n",
       "887        2014-09-26 19:41:41.0000004         12.0  2014-09-26 19:41:41 UTC   \n",
       "958       2011-02-22 14:09:00.00000066          2.5  2011-02-22 14:09:00 UTC   \n",
       "960        2013-05-31 05:02:30.0000001         12.5  2013-05-31 05:02:30 UTC   \n",
       "964        2009-06-30 10:20:09.0000005         14.1  2009-06-30 10:20:09 UTC   \n",
       "966        2015-06-08 01:59:17.0000001         28.0  2015-06-08 01:59:17 UTC   \n",
       "1260      2011-03-10 20:25:00.00000049          5.7  2011-03-10 20:25:00 UTC   \n",
       "1314       2012-09-20 20:06:50.0000001         11.5  2012-09-20 20:06:50 UTC   \n",
       "1316     2014-06-17 17:50:00.000000213          8.5  2014-06-17 17:50:00 UTC   \n",
       "1397      2009-02-17 07:30:00.00000027          4.5  2009-02-17 07:30:00 UTC   \n",
       "1441       2014-02-22 17:20:23.0000004         25.0  2014-02-22 17:20:23 UTC   \n",
       "...                                ...          ...                      ...   \n",
       "9998657    2014-08-01 22:16:58.0000007          6.0  2014-08-01 22:16:58 UTC   \n",
       "9998706    2014-07-08 23:33:38.0000001         25.0  2014-07-08 23:33:38 UTC   \n",
       "9998709   2011-06-30 22:47:00.00000064          6.9  2011-06-30 22:47:00 UTC   \n",
       "9998739   2011-07-02 11:32:00.00000048          8.9  2011-07-02 11:32:00 UTC   \n",
       "9998813   2012-01-29 16:57:00.00000041          5.3  2012-01-29 16:57:00 UTC   \n",
       "9998861  2013-06-04 09:40:00.000000149          2.5  2013-06-04 09:40:00 UTC   \n",
       "9998880    2014-08-18 00:03:21.0000004         14.5  2014-08-18 00:03:21 UTC   \n",
       "9998906    2011-11-25 17:43:38.0000003          4.5  2011-11-25 17:43:38 UTC   \n",
       "9998909   2010-02-11 12:23:00.00000028          5.7  2010-02-11 12:23:00 UTC   \n",
       "9998995    2012-12-27 14:36:35.0000002         91.5  2012-12-27 14:36:35 UTC   \n",
       "9999002    2013-05-07 18:54:43.0000004         11.0  2013-05-07 18:54:43 UTC   \n",
       "9999036   2012-09-08 08:56:00.00000071          7.0  2012-09-08 08:56:00 UTC   \n",
       "9999074  2011-03-04 21:42:00.000000130         14.5  2011-03-04 21:42:00 UTC   \n",
       "9999102   2012-10-15 13:21:00.00000023          8.0  2012-10-15 13:21:00 UTC   \n",
       "9999137   2012-12-03 15:15:00.00000095          5.0  2012-12-03 15:15:00 UTC   \n",
       "9999146    2012-08-18 16:32:19.0000003         49.8  2012-08-18 16:32:19 UTC   \n",
       "9999166    2012-03-30 11:18:45.0000001         49.8  2012-03-30 11:18:45 UTC   \n",
       "9999285   2013-09-08 00:26:00.00000094         17.0  2013-09-08 00:26:00 UTC   \n",
       "9999298    2012-06-12 22:25:45.0000002         20.1  2012-06-12 22:25:45 UTC   \n",
       "9999311    2011-03-22 19:33:08.0000002          4.9  2011-03-22 19:33:08 UTC   \n",
       "9999349   2011-04-24 17:21:00.00000056          4.1  2011-04-24 17:21:00 UTC   \n",
       "9999377  2010-12-21 22:33:00.000000144          8.1  2010-12-21 22:33:00 UTC   \n",
       "9999392    2015-04-01 00:24:41.0000002         14.5  2015-04-01 00:24:41 UTC   \n",
       "9999446    2010-11-01 12:43:00.0000001          8.1  2010-11-01 12:43:00 UTC   \n",
       "9999478    2013-12-29 22:58:00.0000001         33.5  2013-12-29 22:58:00 UTC   \n",
       "9999693   2011-04-20 18:11:00.00000060          5.7  2011-04-20 18:11:00 UTC   \n",
       "9999738    2013-02-19 22:06:26.0000005          5.5  2013-02-19 22:06:26 UTC   \n",
       "9999771   2014-08-10 18:48:00.00000016         10.0  2014-08-10 18:48:00 UTC   \n",
       "9999818  2011-08-04 23:30:00.000000140          4.9  2011-08-04 23:30:00 UTC   \n",
       "9999887  2011-12-23 17:24:00.000000165         14.1  2011-12-23 17:24:00 UTC   \n",
       "\n",
       "         pickup_longitude  pickup_latitude  dropoff_longitude  \\\n",
       "11               0.000000         0.000000           0.000000   \n",
       "15               0.000000         0.000000           0.000000   \n",
       "26               0.000000         0.000000           0.000000   \n",
       "124              0.000000         0.000000           0.000000   \n",
       "192              0.000000         0.000000           0.000000   \n",
       "233              0.000000         0.000000           0.000000   \n",
       "273              0.000000         0.000000           0.000000   \n",
       "357              0.000000         0.000000           0.000000   \n",
       "376              0.000000         0.000000           0.000000   \n",
       "387              0.000000         0.000000           0.000000   \n",
       "472              0.000000         0.000000         -74.005433   \n",
       "498              0.000000         0.000000           0.000000   \n",
       "540              0.000000         0.000000           0.000000   \n",
       "542              0.000000         0.000000           0.000000   \n",
       "568              0.000000         0.000000           0.000000   \n",
       "660              0.000000         0.000000           0.000000   \n",
       "728              0.000000         0.000000           0.000000   \n",
       "799              0.000000         0.000000           0.000000   \n",
       "872              0.000000         0.000000           0.000000   \n",
       "881              0.000000         0.000000           0.000000   \n",
       "887              0.000000         0.000000           0.000000   \n",
       "958              0.000000         0.000000           0.000000   \n",
       "960              0.000000         0.000000           0.000000   \n",
       "964              0.000000         0.000000           0.000000   \n",
       "966              0.000000         0.000000           0.000000   \n",
       "1260           -73.973907        40.754743           0.000000   \n",
       "1314             0.000000         0.000000           0.000000   \n",
       "1316             0.000000         0.000000           0.000000   \n",
       "1397             0.000000         0.000000           0.000000   \n",
       "1441             0.000000         0.000000           0.000000   \n",
       "...                   ...              ...                ...   \n",
       "9998657          0.000000         0.000000         -73.992972   \n",
       "9998706          0.000000         0.000000           0.000000   \n",
       "9998709          0.000000         0.000000           0.000000   \n",
       "9998739          0.000000         0.000000           0.000000   \n",
       "9998813          0.000000         0.000000           0.000000   \n",
       "9998861          0.000000         0.000000           0.000000   \n",
       "9998880          0.000000         0.000000           0.000000   \n",
       "9998906          0.000000         0.000000           0.000000   \n",
       "9998909          0.000000         0.000000           0.000000   \n",
       "9998995          0.000000         0.000000           0.000000   \n",
       "9999002          0.000000         0.000000           0.000000   \n",
       "9999036          0.000000         0.000000           0.000000   \n",
       "9999074          0.000000         0.000000           0.000000   \n",
       "9999102          0.000000         0.000000           0.000000   \n",
       "9999137          0.000000         0.000000           0.000000   \n",
       "9999146          0.000000         0.000000         -73.978997   \n",
       "9999166          0.000000         0.000000           0.000000   \n",
       "9999285          0.000000         0.000000           0.000000   \n",
       "9999298          0.000000         0.000000           0.000000   \n",
       "9999311          0.000000         0.000000           0.000000   \n",
       "9999349          0.000000         0.000000           0.000000   \n",
       "9999377          0.000000         0.000000           0.000000   \n",
       "9999392          0.000000         0.000000           0.000000   \n",
       "9999446          0.000000         0.000000           0.000000   \n",
       "9999478          0.000000         0.000000           0.000000   \n",
       "9999693          0.000000         0.000000           0.000000   \n",
       "9999738          0.000000         0.000000           0.000000   \n",
       "9999771          0.000000         0.000000           0.000000   \n",
       "9999818          0.000000         0.000000           0.000000   \n",
       "9999887          0.000000         0.000000           0.000000   \n",
       "\n",
       "         dropoff_latitude  passenger_count  \n",
       "11               0.000000                3  \n",
       "15               0.000000                1  \n",
       "26               0.000000                1  \n",
       "124              0.000000                2  \n",
       "192              0.000000                5  \n",
       "233              0.000000                2  \n",
       "273              0.000000                4  \n",
       "357              0.000000                1  \n",
       "376              0.000000                1  \n",
       "387              0.000000                1  \n",
       "472             40.726685                2  \n",
       "498              0.000000                1  \n",
       "540              0.000000                1  \n",
       "542              0.000000                1  \n",
       "568              0.000000                1  \n",
       "660              0.000000                5  \n",
       "728              0.000000                1  \n",
       "799              0.000000                5  \n",
       "872              0.000000                1  \n",
       "881              0.000000                1  \n",
       "887              0.000000                1  \n",
       "958              0.000000                5  \n",
       "960              0.000000                1  \n",
       "964              0.000000                1  \n",
       "966              0.000000                1  \n",
       "1260             0.000000                2  \n",
       "1314             0.000000                1  \n",
       "1316             0.000000                1  \n",
       "1397             0.000000                2  \n",
       "1441             0.000000                2  \n",
       "...                   ...              ...  \n",
       "9998657         40.735817                1  \n",
       "9998706          0.000000                1  \n",
       "9998709          0.000000                1  \n",
       "9998739          0.000000                3  \n",
       "9998813          0.000000                1  \n",
       "9998861          0.000000                6  \n",
       "9998880          0.000000                1  \n",
       "9998906          0.000000                4  \n",
       "9998909          0.000000                2  \n",
       "9998995          0.000000                1  \n",
       "9999002          0.000000                1  \n",
       "9999036          0.000000                1  \n",
       "9999074          0.000000                2  \n",
       "9999102          0.000000                2  \n",
       "9999137          0.000000                2  \n",
       "9999146         40.772235                1  \n",
       "9999166          0.000000                3  \n",
       "9999285          0.000000                2  \n",
       "9999298          0.000000                3  \n",
       "9999311          0.000000                3  \n",
       "9999349          0.000000                2  \n",
       "9999377          0.000000                1  \n",
       "9999392          0.000000                1  \n",
       "9999446          0.000000                3  \n",
       "9999478          0.000000                1  \n",
       "9999693          0.000000                1  \n",
       "9999738          0.000000                1  \n",
       "9999771          0.000000                3  \n",
       "9999818          0.000000                2  \n",
       "9999887          0.000000                1  \n",
       "\n",
       "[199955 rows x 8 columns]"
      ]
     },
     "execution_count": 27,
     "metadata": {},
     "output_type": "execute_result"
    }
   ],
   "source": [
    "df_train[(df_train['pickup_latitude']>90)|(df_train['pickup_latitude']<-90)| \\\n",
    "         (df_train['dropoff_latitude']>90)|(df_train['dropoff_latitude']<-90)|(df_train['pickup_longitude']>180)|\\\n",
    "         (df_train['pickup_longitude']<-180)|(df_train['dropoff_longitude']>180)|(df_train['dropoff_longitude']<-180)|\n",
    "         (df_train['pickup_longitude'] == 0)|(df_train['pickup_latitude'] == 0)|(df_train['dropoff_latitude'] == 0)|\n",
    "        (df_train['dropoff_longitude'] == 0)]"
   ]
  },
  {
   "cell_type": "code",
   "execution_count": 28,
   "metadata": {},
   "outputs": [],
   "source": [
    "df_train = df_train.drop(df_train[(df_train['pickup_latitude']>90)|(df_train['pickup_latitude']<-90)| \\\n",
    "         (df_train['dropoff_latitude']>90)|(df_train['dropoff_latitude']<-90)|(df_train['pickup_longitude']>180)|\\\n",
    "         (df_train['pickup_longitude']<-180)|(df_train['dropoff_longitude']>180)|(df_train['dropoff_longitude']<-180)|\n",
    "         (df_train['pickup_longitude'] == 0)|(df_train['pickup_latitude'] == 0)|(df_train['dropoff_latitude'] == 0)|\n",
    "         (df_train['dropoff_longitude'] == 0)].index, axis = 0)"
   ]
  },
  {
   "cell_type": "code",
   "execution_count": 29,
   "metadata": {},
   "outputs": [
    {
     "data": {
      "text/plain": [
       "pandas.core.series.Series"
      ]
     },
     "execution_count": 29,
     "metadata": {},
     "output_type": "execute_result"
    }
   ],
   "source": [
    "type(df_train['pickup_datetime'])"
   ]
  },
  {
   "cell_type": "code",
   "execution_count": 30,
   "metadata": {},
   "outputs": [],
   "source": [
    "#remove the UTC part of the datetime \n",
    "df_train['pickup_datetime']=df_train.pickup_datetime.map(lambda x: x.rstrip(' UTC'))"
   ]
  },
  {
   "cell_type": "code",
   "execution_count": null,
   "metadata": {},
   "outputs": [],
   "source": [
    "df_train['pickup_datetime'] = pd.to_datetime(df_train['pickup_datetime'] ,format= \"%Y-%m-%d %H:%M:%S\")"
   ]
  },
  {
   "cell_type": "code",
   "execution_count": null,
   "metadata": {},
   "outputs": [],
   "source": [
    "df_train['year']=df_train['pickup_datetime'].dt.year\n",
    "df_train['month']=df_train['pickup_datetime'].dt.month\n",
    "df_train['day_week']=df_train['pickup_datetime'].dt.dayofweek\n",
    "df_train['hour']= df_train['pickup_datetime'].dt.hour"
   ]
  },
  {
   "cell_type": "code",
   "execution_count": null,
   "metadata": {},
   "outputs": [],
   "source": [
    "df_test['pickup_datetime']=df_test.pickup_datetime.map(lambda x: x.rstrip(' UTC'))"
   ]
  },
  {
   "cell_type": "code",
   "execution_count": null,
   "metadata": {},
   "outputs": [],
   "source": [
    "df_test['pickup_datetime'] = pd.to_datetime(df_test['pickup_datetime'] ,format= \"%Y-%m-%d %H:%M:%S\")"
   ]
  },
  {
   "cell_type": "code",
   "execution_count": null,
   "metadata": {},
   "outputs": [],
   "source": [
    "df_test['year']=df_test['pickup_datetime'].dt.year\n",
    "df_test['month']=df_test['pickup_datetime'].dt.month\n",
    "df_test['day_week']=df_test['pickup_datetime'].dt.dayofweek\n",
    "df_test['hour']= df_test['pickup_datetime'].dt.hour"
   ]
  },
  {
   "cell_type": "code",
   "execution_count": null,
   "metadata": {},
   "outputs": [],
   "source": [
    "df_train"
   ]
  },
  {
   "cell_type": "code",
   "execution_count": null,
   "metadata": {},
   "outputs": [],
   "source": [
    "def deg2rad(deg):\n",
    "    return deg * (np.pi/180)\n",
    "\n",
    "\n",
    "def getDistance(lat1,lon1,lat2,lon2): \n",
    "    R = 6371\n",
    "    dLat = deg2rad(lat2-lat1)\n",
    "    dLon = deg2rad(lon2-lon1) \n",
    "    a = np.sin(dLat/2) * np.sin(dLat/2) + np.cos(deg2rad(lat1)) * np.cos(deg2rad(lat2)) * np.sin(dLon/2) * np.sin(dLon/2)\n",
    "    c = 2 * np.arctan2(np.sqrt(a), np.sqrt(1-a))\n",
    "    d = R * c\n",
    "    return d\n"
   ]
  },
  {
   "cell_type": "code",
   "execution_count": null,
   "metadata": {},
   "outputs": [],
   "source": [
    "df_train['dist']=df_train.apply(lambda df_train: getDistance(df_train['pickup_latitude'], df_train['pickup_longitude'],df_train['dropoff_latitude'], df_train['dropoff_longitude']), axis=1)"
   ]
  },
  {
   "cell_type": "code",
   "execution_count": null,
   "metadata": {},
   "outputs": [],
   "source": [
    "a = df_train.sort_values(by=['dist'], ascending=False)\n",
    "a.head(10)"
   ]
  },
  {
   "cell_type": "code",
   "execution_count": null,
   "metadata": {},
   "outputs": [],
   "source": [
    "lat1=pd.to_numeric(df_train.pickup_latitude,downcast='float')\n",
    "# long1=df_train.pickup_longitude.astype(float)\n",
    "# lat2=df_train.dropoff_latitude.astype(float)\n",
    "# long2=df_train.dropoff_longitude.astype(float)\n",
    "\n",
    "\n",
    "# df_train['hour'] = getDistance(lat1,long1,lat2,long2)"
   ]
  },
  {
   "cell_type": "code",
   "execution_count": null,
   "metadata": {},
   "outputs": [],
   "source": [
    "df_train[['pickup_latitude','pickup_longitude','dropoff_latitude','dropoff_longitude']] = df_train[['pickup_latitude','pickup_longitude','dropoff_latitude','dropoff_longitude']].apply(pd.to_numeric)"
   ]
  },
  {
   "cell_type": "code",
   "execution_count": null,
   "metadata": {},
   "outputs": [],
   "source": [
    "df_train['dist']=df_train.apply(lambda df_train: getDistance(df_train['pickup_latitude'], df_train['pickup_longitude'],df_train['dropoff_latitude'], df_train['dropoff_longitude']), axis=1)"
   ]
  },
  {
   "cell_type": "code",
   "execution_count": null,
   "metadata": {},
   "outputs": [],
   "source": [
    "df_train.dist.describe()\n"
   ]
  },
  {
   "cell_type": "code",
   "execution_count": null,
   "metadata": {},
   "outputs": [],
   "source": [
    "df_train.boxplot(column=['dist'])"
   ]
  },
  {
   "cell_type": "code",
   "execution_count": null,
   "metadata": {},
   "outputs": [],
   "source": [
    "df_train.hist(column = ['dist'])"
   ]
  },
  {
   "cell_type": "code",
   "execution_count": null,
   "metadata": {},
   "outputs": [],
   "source": [
    "a = df_train.sort_values(by=['dist'], ascending=False)\n",
    "a.head(10)\n"
   ]
  },
  {
   "cell_type": "code",
   "execution_count": null,
   "metadata": {},
   "outputs": [],
   "source": [
    "len(df_train[df_train['dist']>100])"
   ]
  },
  {
   "cell_type": "code",
   "execution_count": null,
   "metadata": {},
   "outputs": [],
   "source": [
    "df_train.dist.describe()"
   ]
  },
  {
   "cell_type": "markdown",
   "metadata": {},
   "source": [
    "Now, for EDA. The following are my considerations -\n",
    "\n",
    "Does the number of passengers affect the fare?\n",
    "Does the date and time of pickup affect the fare?\n",
    "Does the day of the week affect the fare?\n",
    "Does the distance travelled affect the fare?\n",
    "First, let's split the datetime field 'pickup_datetime' to the following -\n",
    "\n",
    "year\n",
    "month\n",
    "date\n",
    "hour\n",
    "day of week\n",
    "Using these we shall calculate the day of the week and come to our conclusions about how pickup_location affects the fare. Also, create a new field 'distance' to fetch the distance between the pickup and the drop."
   ]
  },
  {
   "cell_type": "code",
   "execution_count": null,
   "metadata": {},
   "outputs": [],
   "source": [
    "plt.figure(figsize=(15,7))\n",
    "plt.hist(df_train['passenger_count'], bins=15)\n",
    "plt.xlabel('No. of Passengers')\n",
    "plt.ylabel('Frequency')\n"
   ]
  },
  {
   "cell_type": "code",
   "execution_count": null,
   "metadata": {},
   "outputs": [],
   "source": [
    "plt.figure(figsize=(15,7))\n",
    "plt.scatter(x=df_train['passenger_count'], y=df_train['fare_amount'], s=1.5)\n",
    "plt.xlabel('No. of Passengers')\n",
    "plt.ylabel('Fare')"
   ]
  },
  {
   "cell_type": "markdown",
   "metadata": {},
   "source": [
    "Fare for the single passenger the fare is very high. Frequency of single passenger is also more as compared to other number of passenger."
   ]
  },
  {
   "cell_type": "code",
   "execution_count": null,
   "metadata": {},
   "outputs": [],
   "source": [
    "import seaborn as sns\n",
    "plt.figure(figsize=(8,5))\n",
    "sns.kdeplot(df_train['fare_amount']).set_title(\"Distribution of Trip Fare\")"
   ]
  },
  {
   "cell_type": "code",
   "execution_count": null,
   "metadata": {},
   "outputs": [],
   "source": [
    "df_train['fare_amount'].median()"
   ]
  },
  {
   "cell_type": "markdown",
   "metadata": {},
   "source": [
    "The fare is mostly clustered around 8.5 and we can clearly see some of the outliers\n"
   ]
  },
  {
   "cell_type": "code",
   "execution_count": null,
   "metadata": {},
   "outputs": [],
   "source": [
    "from matplotlib.pyplot import *\n",
    "df_train.plot.scatter(x='dist', y='fare_amount')"
   ]
  },
  {
   "cell_type": "code",
   "execution_count": null,
   "metadata": {},
   "outputs": [],
   "source": [
    "# Removing the distance which is greater than 200 as we can see the outliers from the above dataset\n",
    "df_train = df_train.drop(df_train[df_train['dist'] > 200].index, axis = 0)\n",
    "df_train.shape"
   ]
  },
  {
   "cell_type": "code",
   "execution_count": null,
   "metadata": {},
   "outputs": [],
   "source": [
    "from matplotlib.pyplot import *\n",
    "df_train.plot.scatter(x='dist', y='fare_amount')"
   ]
  },
  {
   "cell_type": "code",
   "execution_count": null,
   "metadata": {},
   "outputs": [],
   "source": [
    "plt.figure(figsize=(15,9))\n",
    "plt.scatter(x=df_train['month'], y=df_train['fare_amount'], s=1.5)\n",
    "plt.xlabel('month')\n",
    "plt.ylabel('Fare')"
   ]
  },
  {
   "cell_type": "markdown",
   "metadata": {},
   "source": [
    "1) Frequency of pickup location and dropoff location \n",
    "2)frequency of time (cab demand time for the pickup with every year)\n",
    "3)Price vs location \n",
    "4)Price vs distance across years\n",
    "5)Price vs month\n",
    "6) Across years which day is the most frequent day\n"
   ]
  },
  {
   "cell_type": "code",
   "execution_count": null,
   "metadata": {},
   "outputs": [],
   "source": [
    "# Let us round pickup and dropoff lat lng to 3 decimal places\n",
    "df_train['pickup_latitude_round3']=df_train['pickup_latitude'].apply(lambda x:round(x,3))\n",
    "df_train['pickup_longitude_round3']=df_train['pickup_longitude'].apply(lambda x:round(x,3))\n",
    "df_train['dropoff_latitude_round3']=df_train['dropoff_latitude'].apply(lambda x:round(x,3))\n",
    "df_train['dropoff_longitude_round3']=df_train['dropoff_longitude'].apply(lambda x:round(x,3))"
   ]
  },
  {
   "cell_type": "code",
   "execution_count": null,
   "metadata": {},
   "outputs": [],
   "source": [
    "pickup_fare_amount=df_train.groupby(['pickup_latitude_round3','pickup_longitude_round3'])['fare_amount'].mean().reset_index().rename(columns={'fare_amount':'avg_fare'})\n",
    "pickup_fare_amount.sort_values(by ='avg_fare', ascending = False)\n"
   ]
  },
  {
   "cell_type": "code",
   "execution_count": null,
   "metadata": {},
   "outputs": [],
   "source": [
    "# How many trips happened for a particular pickup latitude and longitude\n",
    "\n",
    "pickup_fare_amount=df_train.groupby(['pickup_latitude_round3','pickup_longitude_round3'])['key'].count().reset_index().rename(columns={'key':'count'})\n",
    "pickup_fare_amount. sort_values(by = 'count', ascending = False)\n"
   ]
  },
  {
   "cell_type": "code",
   "execution_count": null,
   "metadata": {},
   "outputs": [],
   "source": [
    "df_train[df_train['dist']==0]"
   ]
  },
  {
   "cell_type": "code",
   "execution_count": null,
   "metadata": {},
   "outputs": [],
   "source": [
    "df_train[(df_train['dist']==0)&(df_train['fare_amount']==0)]"
   ]
  },
  {
   "cell_type": "markdown",
   "metadata": {},
   "source": [
    "The cab waited the whole time and the passenger eventually cancelled. That's why the pickup and drop co-ordinates are the same and therefore, the passenger was charged for the waiting time.\n",
    "The pickup and drop co-ordinates were not entered and these are missing values."
   ]
  },
  {
   "cell_type": "code",
   "execution_count": null,
   "metadata": {},
   "outputs": [],
   "source": [
    "plt.figure(figsize=(15,7))\n",
    "plt.hist(df_train['year'], bins=30)\n",
    "plt.xlabel('year')\n",
    "plt.ylabel('Frequency')\n",
    "# df_train[(df_train['month']>12)]"
   ]
  },
  {
   "cell_type": "code",
   "execution_count": null,
   "metadata": {},
   "outputs": [],
   "source": [
    "df_train.year.unique()"
   ]
  },
  {
   "cell_type": "code",
   "execution_count": null,
   "metadata": {},
   "outputs": [],
   "source": [
    "\n",
    "#df_train[['year','month']].agg(['unique'])\n",
    "df_train.groupby(['year']).agg({'month':'nunique'})"
   ]
  },
  {
   "cell_type": "markdown",
   "metadata": {},
   "source": [
    "There are only six months for 2015"
   ]
  },
  {
   "cell_type": "code",
   "execution_count": null,
   "metadata": {},
   "outputs": [],
   "source": [
    "# fig, ax = plt.subplots()\n",
    "\n",
    "# for key, grp in df_train.groupby(['year']):\n",
    "#     ax = grp.plot(ax=ax, kind='line', x='dist', y='fare_amount', label=key)\n",
    "\n",
    "# plt.legend(loc='best')\n",
    "# plt.show()"
   ]
  },
  {
   "cell_type": "code",
   "execution_count": null,
   "metadata": {},
   "outputs": [],
   "source": [
    "df_train.dist.hist(bins=50, figsize=(12,4))\n",
    "plt.xlabel('distance km')\n",
    "plt.title('Histogram ride distances in km')"
   ]
  },
  {
   "cell_type": "code",
   "execution_count": null,
   "metadata": {},
   "outputs": [],
   "source": [
    "df_train.groupby('passenger_count')['dist', 'fare_amount'].mean()"
   ]
  },
  {
   "cell_type": "code",
   "execution_count": null,
   "metadata": {},
   "outputs": [],
   "source": [
    "# removing the passenger count which is zero\n",
    "df_train = df_train.drop(df_train[df_train['passenger_count'] ==0].index, axis = 0)\n",
    "df_train.shape"
   ]
  },
  {
   "cell_type": "code",
   "execution_count": null,
   "metadata": {},
   "outputs": [],
   "source": [
    "len(df_train[df_train['passenger_count']==0])"
   ]
  },
  {
   "cell_type": "code",
   "execution_count": null,
   "metadata": {},
   "outputs": [],
   "source": [
    "plt.scatter(df_train.dist, df_train.fare_amount, alpha = 0.4)\n",
    "plt.xlabel('distance in km')\n",
    "plt.ylabel('fare_amount')\n",
    "plt.show()\n"
   ]
  },
  {
   "cell_type": "code",
   "execution_count": null,
   "metadata": {},
   "outputs": [],
   "source": [
    "df_train.pivot_table('fare_amount',index = 'hour', columns='year').plot(figsize=(14,6))\n",
    "plt.ylabel('Mean Fare');"
   ]
  },
  {
   "cell_type": "markdown",
   "metadata": {},
   "source": [
    "**The fare is ighest duirng 5AM in the morning and then again in the evening and drops around 7PM in the evening**"
   ]
  },
  {
   "cell_type": "code",
   "execution_count": null,
   "metadata": {},
   "outputs": [],
   "source": [
    "plt.figure(figsize=(15,7))\n",
    "plt.hist(df_train['hour'], bins=100)\n",
    "plt.xlabel('Hour')\n",
    "plt.ylabel('Frequency')"
   ]
  },
  {
   "cell_type": "markdown",
   "metadata": {},
   "source": [
    "**The frequency of the cab is lowest during 5AM in the morning and highest during 7PM of the evening**"
   ]
  },
  {
   "cell_type": "code",
   "execution_count": null,
   "metadata": {},
   "outputs": [],
   "source": [
    "plt.scatter(df_train.day_week, df_train.fare_amount, alpha = 0.4)\n",
    "plt.xlabel('day_week')\n",
    "plt.ylabel('fare_amount')\n",
    "plt.show()"
   ]
  },
  {
   "cell_type": "markdown",
   "metadata": {},
   "source": [
    "**The fare is highest for sunday and monday**"
   ]
  },
  {
   "cell_type": "code",
   "execution_count": null,
   "metadata": {},
   "outputs": [],
   "source": [
    "df_train.pivot_table('fare_amount',index ='hour', columns='year',aggfunc=np.mean)\n"
   ]
  },
  {
   "cell_type": "code",
   "execution_count": null,
   "metadata": {},
   "outputs": [],
   "source": []
  },
  {
   "cell_type": "code",
   "execution_count": null,
   "metadata": {},
   "outputs": [],
   "source": [
    "df_train.pivot_table('fare_amount',index = 'month', columns='year').plot(figsize=(14,6)).legend(loc = 1)\n",
    "plt.ylabel('Fare $USD');\n"
   ]
  },
  {
   "cell_type": "markdown",
   "metadata": {},
   "source": [
    "1) they are using pycharm or jupyter notebook. \n",
    "2) Map work for latitude and longitude.\n",
    "3) Correlation matrix for all the columns\n",
    "4) Time series on the data\n",
    "5) Feature Engineering -PCA, factor analysis\n",
    "6) svd - machine learning"
   ]
  },
  {
   "cell_type": "code",
   "execution_count": null,
   "metadata": {},
   "outputs": [],
   "source": [
    "# df_train[\"month_name\"] = df_train[\"month\"].map({1:\"JAN\",2:\"FEB\",3:\"MAR\",\n",
    "#                                                 4:\"APR\",5:\"MAY\",6:\"JUN\",\n",
    "#                                                 7:\"JUL\",8:\"AUG\",9:\"SEP\",\n",
    "#                                                 10:\"OCT\",11:\"NOV\",12:\"DEC\"\n",
    "#                                                })"
   ]
  },
  {
   "cell_type": "code",
   "execution_count": null,
   "metadata": {},
   "outputs": [],
   "source": [
    "# df_train.head()"
   ]
  },
  {
   "cell_type": "code",
   "execution_count": null,
   "metadata": {},
   "outputs": [],
   "source": [
    "# yrs = [i for i in df_train[\"year\"].unique().tolist() if i not in [2015]]\n",
    "\n",
    "# #subset data without year 2015\n",
    "# complete_dat = df_train[df_train[\"year\"].isin(yrs)]"
   ]
  },
  {
   "cell_type": "code",
   "execution_count": null,
   "metadata": {},
   "outputs": [],
   "source": [
    "# fare_mn = complete_dat.groupby(\"month_name\")[\"fare_amount\"].mean().reset_index()\n",
    "\n",
    "# mnth_ord = ['JAN', 'FEB', 'MAR','APR', 'MAY' , 'JUN',\n",
    "#                 'JUL',  'AUG', 'SEP','OCT', 'NOV','DEC']\n",
    "\n",
    "# plt.figure(figsize = (12,7))\n",
    "# sns.barplot(\"month_name\",\"fare_amount\",\n",
    "#             data = fare_mn,order = mnth_ord,\n",
    "#             linewidth =1,edgecolor = \"k\"*len(mnth_ord)\n",
    "#            )\n",
    "# plt.grid(True)\n",
    "# plt.title(\"Average fare amount by Month\")\n",
    "# plt.show()"
   ]
  },
  {
   "cell_type": "code",
   "execution_count": null,
   "metadata": {},
   "outputs": [],
   "source": [
    "# Let's check how the features correlate\n",
    "import seaborn as sns\n",
    "colormap = plt.cm.RdBu\n",
    "plt.figure(figsize=(20,20))\n",
    "plt.title('Pearson Correlation of Features', y=1.05, size=15)\n",
    "sns.heatmap(df_train.corr(),linewidths=0.1,vmax=1.0, \n",
    "            square=True, cmap=colormap, linecolor='white', annot=True)"
   ]
  },
  {
   "cell_type": "code",
   "execution_count": null,
   "metadata": {},
   "outputs": [],
   "source": [
    "df_train.head()"
   ]
  },
  {
   "cell_type": "code",
   "execution_count": null,
   "metadata": {},
   "outputs": [],
   "source": [
    "df_train[df_train['dist']==0]"
   ]
  },
  {
   "cell_type": "markdown",
   "metadata": {},
   "source": [
    "**Dropping the records where Distance = 0 and Fare = 0**"
   ]
  },
  {
   "cell_type": "code",
   "execution_count": null,
   "metadata": {},
   "outputs": [],
   "source": [
    "df_train[(df_train['dist']==0)&(df_train['fare_amount']==0)]"
   ]
  },
  {
   "cell_type": "code",
   "execution_count": null,
   "metadata": {},
   "outputs": [],
   "source": [
    "df_train = df_train.drop(df_train[(df_train['dist']==0)&(df_train['fare_amount']==0)].index, axis = 0)"
   ]
  },
  {
   "cell_type": "code",
   "execution_count": null,
   "metadata": {},
   "outputs": [],
   "source": [
    "df_train[(df_train['dist']==0)&(df_train['fare_amount']==0)]"
   ]
  },
  {
   "cell_type": "markdown",
   "metadata": {},
   "source": [
    "**Creating a dataset with distance = 0 and doing EDA on that**"
   ]
  },
  {
   "cell_type": "code",
   "execution_count": null,
   "metadata": {},
   "outputs": [],
   "source": [
    "df_dist0 = []\n",
    "df_dist0 = df_train[df_train.dist == 0]"
   ]
  },
  {
   "cell_type": "code",
   "execution_count": null,
   "metadata": {},
   "outputs": [],
   "source": [
    "df_dist0.shape"
   ]
  },
  {
   "cell_type": "code",
   "execution_count": null,
   "metadata": {},
   "outputs": [],
   "source": [
    "plt.scatter(df_dist0.dist, df_dist0.fare_amount, alpha = 0.4)\n",
    "plt.xlabel('distance in km')\n",
    "plt.ylabel('fare_amount')\n",
    "plt.show()"
   ]
  },
  {
   "cell_type": "code",
   "execution_count": null,
   "metadata": {},
   "outputs": [],
   "source": [
    "df_dist0.pivot_table('fare_amount',index = 'hour', columns='year').plot(figsize=(14,6))\n",
    "plt.ylabel('Mean Fare');"
   ]
  },
  {
   "cell_type": "code",
   "execution_count": null,
   "metadata": {},
   "outputs": [],
   "source": [
    "plt.figure(figsize=(15,7))\n",
    "plt.hist(df_dist0['hour'], bins=100)\n",
    "plt.xlabel('Hour')\n",
    "plt.ylabel('Frequency')"
   ]
  },
  {
   "cell_type": "code",
   "execution_count": null,
   "metadata": {},
   "outputs": [],
   "source": [
    "plt.scatter(df_dist0.day_week, df_dist0.fare_amount, alpha = 0.4)\n",
    "plt.xlabel('day_week')\n",
    "plt.ylabel('fare_amount')\n",
    "plt.show()"
   ]
  },
  {
   "cell_type": "code",
   "execution_count": null,
   "metadata": {},
   "outputs": [],
   "source": [
    "df_dist0.pivot_table('fare_amount',index = 'month', columns='year').plot(figsize=(14,6)).legend(loc = 1)\n",
    "plt.ylabel('Fare $USD');\n"
   ]
  },
  {
   "cell_type": "markdown",
   "metadata": {},
   "source": [
    "**No new information from the datasets with distance = 0 so we can remove them. We will consider different scenarios for them**"
   ]
  },
  {
   "cell_type": "markdown",
   "metadata": {},
   "source": []
  },
  {
   "cell_type": "markdown",
   "metadata": {},
   "source": [
    "Scenario 1: Fare is not 0 and is less than the base amount, but Distance is 0.\n",
    "Delete these rows as the minimum is $2.50, and these fares are incorrect values\n",
    "Reference for base fare : https://www.theawl.com/2012/07/how-much-more-do-taxi-fares-cost-today/"
   ]
  },
  {
   "cell_type": "code",
   "execution_count": null,
   "metadata": {},
   "outputs": [],
   "source": [
    "busy_hour = df_train.loc[(((df_train['hour']>=6)&(df_train['hour']<=20)) & ((df_train['day_week']>=1) & (df_train['day_week']<=5)) & (df_train['dist']==0) & (df_train['fare_amount'] < 2.5))]\n",
    "busy_hour"
   ]
  },
  {
   "cell_type": "code",
   "execution_count": null,
   "metadata": {},
   "outputs": [],
   "source": [
    "non_rush_hour = df_train.loc[(((df_train['hour']<6)|(df_train['hour']>20)) & ((df_train['day_week']>=1)&(df_train['day_week']<=5)) & (df_train['dist']==0) & (df_train['fare_amount'] < 3.0))]\n",
    "non_rush_hour"
   ]
  },
  {
   "cell_type": "code",
   "execution_count": null,
   "metadata": {},
   "outputs": [],
   "source": [
    "weekends = df_train.loc[((df_train['day_week']==0) | (df_train['day_week']==6)) & (df_train['dist']==0) & (df_train['fare_amount'] < 3.0)]\n",
    "weekends"
   ]
  },
  {
   "cell_type": "markdown",
   "metadata": {},
   "source": [
    "From above scenria, I can understand that the distance is 0, but the fare is all the minimum fare of $2.5. \n",
    "This could be because the passenger booked the cab but ended up cancelling to pay the base fare (I am assuming it this way)"
   ]
  },
  {
   "cell_type": "markdown",
   "metadata": {},
   "source": [
    "Scenario 2: Fare is 0, but Distance is not 0. These values need to be imputed."
   ]
  },
  {
   "cell_type": "code",
   "execution_count": null,
   "metadata": {},
   "outputs": [],
   "source": [
    "df_fare0 = df_train[(df_train['fare_amount']==0)&(df_train['dist'] > 0)]"
   ]
  },
  {
   "cell_type": "code",
   "execution_count": null,
   "metadata": {},
   "outputs": [],
   "source": [
    "len(df_fare0)"
   ]
  },
  {
   "cell_type": "markdown",
   "metadata": {},
   "source": [
    "calculating the fare as I have the distance. I shall use the following formula\n",
    "\n",
    "**fare = 2.5 + 1.56(dist)**\n",
    "\n",
    "where 2.5 is the base fare and 1.56 the fare per km "
   ]
  },
  {
   "cell_type": "code",
   "execution_count": null,
   "metadata": {},
   "outputs": [],
   "source": [
    "df_fare0['fare_amount'] = df_fare0.apply(\n",
    "    lambda row: ((row['dist'] * 1.56) + 2.50), axis=1\n",
    ")"
   ]
  },
  {
   "cell_type": "code",
   "execution_count": null,
   "metadata": {},
   "outputs": [],
   "source": [
    "df_fare0['fare_amount']"
   ]
  },
  {
   "cell_type": "code",
   "execution_count": null,
   "metadata": {},
   "outputs": [],
   "source": [
    "df_train.update(df_fare0)"
   ]
  },
  {
   "cell_type": "code",
   "execution_count": null,
   "metadata": {},
   "outputs": [],
   "source": [
    "df_train.head()"
   ]
  },
  {
   "cell_type": "code",
   "execution_count": null,
   "metadata": {},
   "outputs": [],
   "source": [
    "df_train[(df_train['fare_amount']==0)&(df_train['dist'] > 0)]"
   ]
  },
  {
   "cell_type": "markdown",
   "metadata": {},
   "source": [
    "**Scenario 3: Fare is not 0, but Distance is 0. These values need to be imputed.**"
   ]
  },
  {
   "cell_type": "code",
   "execution_count": null,
   "metadata": {},
   "outputs": [],
   "source": [
    "df_train.loc[(df_train['dist']==0) & (df_train['fare_amount']!=0)]"
   ]
  },
  {
   "cell_type": "code",
   "execution_count": null,
   "metadata": {},
   "outputs": [],
   "source": [
    "df_scenario3 = df_train.loc[(df_train['dist']==0) & (df_train['fare_amount']!=0)]"
   ]
  },
  {
   "cell_type": "code",
   "execution_count": null,
   "metadata": {},
   "outputs": [],
   "source": [
    "len(df_scenario3)"
   ]
  },
  {
   "cell_type": "code",
   "execution_count": null,
   "metadata": {},
   "outputs": [],
   "source": [
    "df_scenario3.loc[(df_scenario3['fare_amount']<=3.0)&(df_scenario3['dist']==0)]"
   ]
  },
  {
   "cell_type": "code",
   "execution_count": null,
   "metadata": {},
   "outputs": [],
   "source": [
    "df_scenario3.loc[(df_scenario3['fare_amount']>3.0)&(df_scenario3['dist']==0)]"
   ]
  },
  {
   "cell_type": "markdown",
   "metadata": {},
   "source": [
    "These 9663 rows need to be modified\n",
    "**distance = (fare_amount - 2.5)/1.56**"
   ]
  },
  {
   "cell_type": "code",
   "execution_count": null,
   "metadata": {},
   "outputs": [],
   "source": [
    "dist_imputed = df_scenario3.loc[(df_scenario3['fare_amount']>3.0)&(df_scenario3['dist']==0)]"
   ]
  },
  {
   "cell_type": "code",
   "execution_count": null,
   "metadata": {},
   "outputs": [],
   "source": [
    "len(dist_imputed)"
   ]
  },
  {
   "cell_type": "code",
   "execution_count": null,
   "metadata": {},
   "outputs": [],
   "source": [
    "dist_imputed['dist'] = dist_imputed.apply(\n",
    "lambda row: ((row['fare_amount']-2.50)/1.56), axis=1\n",
    ")"
   ]
  },
  {
   "cell_type": "code",
   "execution_count": null,
   "metadata": {},
   "outputs": [],
   "source": [
    "df_train.update(dist_imputed)"
   ]
  },
  {
   "cell_type": "code",
   "execution_count": null,
   "metadata": {},
   "outputs": [],
   "source": [
    "df_train.loc[(df_train['fare_amount']>3.0)&(df_train['dist']==0)]"
   ]
  },
  {
   "cell_type": "markdown",
   "metadata": {},
   "source": [
    "**Modelling**\n"
   ]
  },
  {
   "cell_type": "code",
   "execution_count": null,
   "metadata": {},
   "outputs": [],
   "source": [
    "df_train.columns"
   ]
  },
  {
   "cell_type": "code",
   "execution_count": null,
   "metadata": {},
   "outputs": [],
   "source": [
    "df_test.columns"
   ]
  },
  {
   "cell_type": "code",
   "execution_count": null,
   "metadata": {},
   "outputs": [],
   "source": [
    "df_train.head()"
   ]
  },
  {
   "cell_type": "code",
   "execution_count": null,
   "metadata": {},
   "outputs": [],
   "source": [
    "df_train = df_train.drop(['key','pickup_datetime'], axis = 1)\n",
    "df_test = df_test.drop(['key','pickup_datetime'], axis = 1)"
   ]
  },
  {
   "cell_type": "code",
   "execution_count": null,
   "metadata": {},
   "outputs": [],
   "source": [
    "df_train.head()"
   ]
  },
  {
   "cell_type": "code",
   "execution_count": null,
   "metadata": {},
   "outputs": [],
   "source": [
    "df_test.head()"
   ]
  },
  {
   "cell_type": "code",
   "execution_count": null,
   "metadata": {},
   "outputs": [],
   "source": [
    "X_train = df_train.iloc[:,train.columns!='fare_amount']\n",
    "Y_train = df_train['fare_amount'].values\n",
    "X_test = df_test"
   ]
  },
  {
   "cell_type": "code",
   "execution_count": null,
   "metadata": {},
   "outputs": [],
   "source": [
    "X_train.head()"
   ]
  },
  {
   "cell_type": "code",
   "execution_count": null,
   "metadata": {},
   "outputs": [],
   "source": [
    "Y_train"
   ]
  },
  {
   "cell_type": "code",
   "execution_count": null,
   "metadata": {},
   "outputs": [],
   "source": [
    "X_test.head()"
   ]
  },
  {
   "cell_type": "markdown",
   "metadata": {},
   "source": [
    "references: https://medium.com/analytics-vidhya/machine-learning-to-predict-taxi-fare-part-one-exploratory-analysis-6b7e6b1fbc78\n",
    "https://www.gps-coordinates.net/\n",
    "https://www.openstreetmap.org/export#map=8/52.154/5.295\n",
    "https://www.travelmath.com/cities/New+York,+NY\n",
    "https://www.kaggle.com/breemen/nyc-taxi-fare-data-exploration"
   ]
  },
  {
   "cell_type": "code",
   "execution_count": null,
   "metadata": {},
   "outputs": [],
   "source": [
    "def select_within_boundingbox(df_train, BB):\n",
    "    return (df_train.pickup_longitude >= BB[0]) & (df_train.pickup_longitude <= BB[1]) & \\\n",
    "           (df_train.pickup_latitude >= BB[2]) & (df_train.pickup_latitude <= BB[3]) & \\\n",
    "           (df_train.dropoff_longitude >= BB[0]) & (df_train.dropoff_longitude <= BB[1]) & \\\n",
    "           (df_train.dropoff_latitude >= BB[2]) & (df_train.dropoff_latitude <= BB[3])\n",
    "            \n",
    "# load image of NYC map\n",
    "BB = (-74.5, -72.8, 40.5, 41.8)\n",
    "nyc_map = plt.imread('https://aiblog.nl/download/nyc_-74.5_-72.8_40.5_41.8.png')\n",
    "\n",
    "# load extra image to zoom in on NYC\n",
    "BB_zoom = (-74.3, -73.7, 40.5, 40.9)\n",
    "nyc_map_zoom = plt.imread('https://aiblog.nl/download/nyc_-74.3_-73.7_40.5_40.9.png')"
   ]
  },
  {
   "cell_type": "code",
   "execution_count": null,
   "metadata": {},
   "outputs": [],
   "source": [
    "print('Old size: %d' % len(df_train))\n",
    "df_train = df_train[select_within_boundingbox(df_train, BB)]\n",
    "print('New size: %d' % len(df_train))"
   ]
  },
  {
   "cell_type": "code",
   "execution_count": null,
   "metadata": {},
   "outputs": [],
   "source": [
    "def plot_on_map(df_train, BB, nyc_map, s=10, alpha=0.2):\n",
    "    fig, axs = plt.subplots(1, 2, figsize=(16,10))\n",
    "    axs[0].scatter(df_train.pickup_longitude, df_train.pickup_latitude, zorder=1, alpha=alpha, c='r', s=s)\n",
    "    axs[0].set_xlim((BB[0], BB[1]))\n",
    "    axs[0].set_ylim((BB[2], BB[3]))\n",
    "    axs[0].set_title('Pickup locations')\n",
    "    axs[0].imshow(nyc_map, zorder=0, extent=BB)\n",
    "\n",
    "    axs[1].scatter(df_train.dropoff_longitude, df_train.dropoff_latitude, zorder=1, alpha=alpha, c='r', s=s)\n",
    "    axs[1].set_xlim((BB[0], BB[1]))\n",
    "    axs[1].set_ylim((BB[2], BB[3]))\n",
    "    axs[1].set_title('Dropoff locations')\n",
    "    axs[1].imshow(nyc_map, zorder=0, extent=BB)"
   ]
  },
  {
   "cell_type": "code",
   "execution_count": null,
   "metadata": {},
   "outputs": [],
   "source": [
    "plot_on_map(df_train, BB_zoom, nyc_map_zoom, s=1, alpha=0.3)"
   ]
  },
  {
   "cell_type": "code",
   "execution_count": null,
   "metadata": {},
   "outputs": [],
   "source": [
    "plot_on_map(df_test, BB, nyc_map, alpha=1.0, s=20)"
   ]
  },
  {
   "cell_type": "code",
   "execution_count": null,
   "metadata": {},
   "outputs": [],
   "source": []
  },
  {
   "cell_type": "code",
   "execution_count": null,
   "metadata": {},
   "outputs": [],
   "source": []
  },
  {
   "cell_type": "code",
   "execution_count": null,
   "metadata": {},
   "outputs": [],
   "source": []
  },
  {
   "cell_type": "code",
   "execution_count": null,
   "metadata": {},
   "outputs": [],
   "source": []
  }
 ],
 "metadata": {
  "kernelspec": {
   "display_name": "Python 3",
   "language": "python",
   "name": "python3"
  },
  "language_info": {
   "codemirror_mode": {
    "name": "ipython",
    "version": 3
   },
   "file_extension": ".py",
   "mimetype": "text/x-python",
   "name": "python",
   "nbconvert_exporter": "python",
   "pygments_lexer": "ipython3",
   "version": "3.5.6"
  }
 },
 "nbformat": 4,
 "nbformat_minor": 2
}
